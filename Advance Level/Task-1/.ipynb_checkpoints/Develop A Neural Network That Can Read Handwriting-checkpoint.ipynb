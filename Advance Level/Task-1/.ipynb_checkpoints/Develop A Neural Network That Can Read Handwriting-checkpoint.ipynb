{
 "cells": [
  {
   "cell_type": "markdown",
   "metadata": {
    "id": "SMZqyOUqCO66"
   },
   "source": [
    "# **LGM-VIP Data Science Internship Programme**\n",
    "# **ADVANCED LEVEL TASK-1**\n",
    "# **Name: Develop A Neural Network That Can Read Handwriting**"
   ]
  },
  {
   "cell_type": "markdown",
   "metadata": {
    "id": "V314n8PRCtIo"
   },
   "source": [
    "**Following are the few libraries we need to import for our fitting.**"
   ]
  },
  {
   "cell_type": "code",
   "execution_count": 2,
   "metadata": {
    "id": "1Ego4RGnCOV4"
   },
   "outputs": [],
   "source": [
    "import io # io Library used for various input and ouput operations\n",
    "import numpy as np # numpy library used doing various operations on arrays\n",
    "import tensorflow as tf\n",
    "from PIL import Image\n",
    "import pandas as pd # pandas library used for doing statstical calculations\n",
    "import seaborn as sb # seaborn library is also used to interpreting the data in variousgraphs\n",
    "import matplotlib.pyplot as plt # Matplotlib library is used for interpreting data in various graphs\n",
    "from keras.datasets import mnist  #the required dataset for this task"
   ]
  },
  {
   "cell_type": "code",
   "execution_count": 3,
   "metadata": {
    "colab": {
     "base_uri": "https://localhost:8080/"
    },
    "id": "Zs5ZbvjlMMKQ",
    "outputId": "a7f101b8-83b2-4949-f043-f12601726584"
   },
   "outputs": [
    {
     "name": "stdout",
     "output_type": "stream",
     "text": [
      "Downloading data from https://storage.googleapis.com/tensorflow/tf-keras-datasets/mnist.npz\n",
      "11493376/11490434 [==============================] - 2s 0us/step\n",
      "11501568/11490434 [==============================] - 2s 0us/step\n"
     ]
    }
   ],
   "source": [
    "mnist = tf.keras.datasets.mnist\n",
    "(X_train, Y_train), (X_test, Y_test) = mnist.load_data()"
   ]
  },
  {
   "cell_type": "code",
   "execution_count": 4,
   "metadata": {
    "colab": {
     "base_uri": "https://localhost:8080/",
     "height": 264
    },
    "id": "xx6rOtKCXnvA",
    "outputId": "6577f451-2be1-4726-bd36-007a642e513d"
   },
   "outputs": [
    {
     "data": {
      "image/png": "[encoded data removed]",
      "text/plain": [
       "<Figure size 432x288 with 1 Axes>"
      ]
     },
     "metadata": {
      "needs_background": "light"
     },
     "output_type": "display_data"
    }
   ],
   "source": [
    "plt.imshow(X_train[0],cmap=plt.cm.binary)\n",
    "plt.show()"
   ]
  },
  {
   "cell_type": "markdown",
   "metadata": {
    "id": "Fj1Jw9TfYB-P"
   },
   "source": [
    "**Normalizing X_train & X_test**"
   ]
  },
  {
   "cell_type": "code",
   "execution_count": 5,
   "metadata": {
    "colab": {
     "base_uri": "https://localhost:8080/",
     "height": 264
    },
    "id": "WkReJ9_GYH3R",
    "outputId": "1e3b12c1-8d9d-49f7-ce69-d78b9bddf0dc"
   },
   "outputs": [
    {
     "data": {
      "image/png": "[encoded data removed]",
      "text/plain": [
       "<Figure size 432x288 with 1 Axes>"
      ]
     },
     "metadata": {
      "needs_background": "light"
     },
     "output_type": "display_data"
    }
   ],
   "source": [
    "X_train = tf.keras.utils.normalize(X_train, axis = 1)\n",
    "X_test = tf.keras.utils.normalize(X_test, axis = 1)\n",
    "plt.imshow(X_train[0], cmap = plt.cm.binary)\n",
    "plt.show()"
   ]
  },
  {
   "cell_type": "markdown",
   "metadata": {
    "id": "8CP02h6mY04d"
   },
   "source": [
    "# **SEQUENTIAL MODEL:**"
   ]
  },
  {
   "cell_type": "code",
   "execution_count": null,
   "metadata": {
    "colab": {
     "base_uri": "https://localhost:8080/"
    },
    "id": "qPMEdQNyYz8P",
    "outputId": "0b16ebcb-efcf-4675-dc69-2ae06121a6ab"
   },
   "outputs": [
    {
     "name": "stdout",
     "output_type": "stream",
     "text": [
      "Epoch 1/15\n",
      "1875/1875 [==============================] - 3s 1ms/step - loss: 0.2619 - accuracy: 0.9235\n",
      "Epoch 2/15\n",
      "1875/1875 [==============================] - 3s 1ms/step - loss: 0.1076 - accuracy: 0.9666\n",
      "Epoch 3/15\n",
      "1875/1875 [==============================] - 3s 2ms/step - loss: 0.0728 - accuracy: 0.9775\n",
      "Epoch 4/15\n",
      "1875/1875 [==============================] - 3s 2ms/step - loss: 0.0538 - accuracy: 0.9830\n",
      "Epoch 5/15\n",
      "1875/1875 [==============================] - 3s 2ms/step - loss: 0.0402 - accuracy: 0.9873\n",
      "Epoch 6/15\n",
      "1875/1875 [==============================] - 3s 2ms/step - loss: 0.0321 - accuracy: 0.9895\n",
      "Epoch 7/15\n",
      "1875/1875 [==============================] - 3s 2ms/step - loss: 0.0252 - accuracy: 0.9920\n",
      "Epoch 8/15\n",
      "1875/1875 [==============================] - 3s 2ms/step - loss: 0.0201 - accuracy: 0.9928\n",
      "Epoch 9/15\n",
      "1875/1875 [==============================] - 3s 2ms/step - loss: 0.0183 - accuracy: 0.9938\n",
      "Epoch 10/15\n",
      "1875/1875 [==============================] - 3s 1ms/step - loss: 0.0158 - accuracy: 0.9946\n",
      "Epoch 11/15\n",
      "1875/1875 [==============================] - 3s 1ms/step - loss: 0.0126 - accuracy: 0.9957\n",
      "Epoch 12/15\n",
      "1156/1875 [=================>............] - ETA: 1s - loss: 0.0098 - accuracy: 0.9968"
     ]
    }
   ],
   "source": [
    "model = tf.keras.models.Sequential()\n",
    "model.add(tf.keras.layers.Flatten())\n",
    "model.add(tf.keras.layers.Dense(128, activation = tf.nn.relu))\n",
    "model.add(tf.keras.layers.Dense(128, activation = tf.nn.relu))\n",
    "model.add(tf.keras.layers.Dense(10, activation = tf.nn.softmax))\n",
    "model.compile(optimizer = 'adam', loss = 'sparse_categorical_crossentropy', metrics = ['accuracy'])\n",
    "model.fit(X_train,Y_train,epochs = 15)"
   ]
  },
  {
   "cell_type": "code",
   "execution_count": null,
   "metadata": {
    "colab": {
     "base_uri": "https://localhost:8080/"
    },
    "id": "LZLp7JQ3ZIdk",
    "outputId": "2034bedd-1b02-4003-a763-a79f550c8a35"
   },
   "outputs": [],
   "source": [
    "model_loss, model_accu = model.evaluate(X_test, Y_test)\n",
    "print(model_loss,model_accu)"
   ]
  },
  {
   "cell_type": "markdown",
   "metadata": {
    "id": "WdV7PFKRcMb_"
   },
   "source": [
    "# **Prediction**"
   ]
  },
  {
   "cell_type": "code",
   "execution_count": null,
   "metadata": {
    "colab": {
     "base_uri": "https://localhost:8080/"
    },
    "id": "KtFQDOG5cPMX",
    "outputId": "ea79fa9e-7d6b-406c-ede7-d311f1947925"
   },
   "outputs": [],
   "source": [
    "predicts = model.predict([X_test])\n",
    "print(predicts)"
   ]
  },
  {
   "cell_type": "code",
   "execution_count": null,
   "metadata": {
    "colab": {
     "base_uri": "https://localhost:8080/"
    },
    "id": "4P_KvpWTcms-",
    "outputId": "201c0707-3caf-442b-fdf0-9d32e5d95a02"
   },
   "outputs": [],
   "source": [
    "print(np.argmax(predicts[0]))"
   ]
  },
  {
   "cell_type": "code",
   "execution_count": null,
   "metadata": {
    "colab": {
     "base_uri": "https://localhost:8080/",
     "height": 264
    },
    "id": "C5wFPrOIe2km",
    "outputId": "ec78753b-4124-41b7-f50c-00b9907506be"
   },
   "outputs": [],
   "source": [
    "plt.imshow(X_test[0])\n",
    "plt.show()"
   ]
  }
 ],
 "metadata": {
  "colab": {
   "name": "ADVANCED LEVEL TASK-1",
   "provenance": []
  },
  "kernelspec": {
   "display_name": "Python 3",
   "language": "python",
   "name": "python3"
  },
  "language_info": {
   "codemirror_mode": {
    "name": "ipython",
    "version": 3
   },
   "file_extension": ".py",
   "mimetype": "text/x-python",
   "name": "python",
   "nbconvert_exporter": "python",
   "pygments_lexer": "ipython3",
   "version": "3.8.10"
  }
 },
 "nbformat": 4,
 "nbformat_minor": 1
}
