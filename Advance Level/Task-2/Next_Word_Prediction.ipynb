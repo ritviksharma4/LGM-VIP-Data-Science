{
  "cells": [
    {
      "cell_type": "markdown",
      "metadata": {
        "id": "Ow4OWiStPAOX"
      },
      "source": [
        "# **LGM-VIP Data Science Internship Programme**\n",
        "# **Advanced Level Task-2**\n",
        "# **Name: Next Word Prediction**"
      ]
    },
    {
      "cell_type": "markdown",
      "metadata": {
        "id": "VpkgO88lPMwk"
      },
      "source": [
        "**Following are the few libraries we need to import for our fitting.**"
      ]
    },
    {
      "cell_type": "code",
      "execution_count": null,
      "metadata": {
        "execution": {
          "iopub.execute_input": "2021-11-27T17:47:40.813274Z",
          "iopub.status.busy": "2021-11-27T17:47:40.812529Z",
          "iopub.status.idle": "2021-11-27T17:47:47.376313Z",
          "shell.execute_reply": "2021-11-27T17:47:47.375284Z",
          "shell.execute_reply.started": "2021-11-27T17:47:40.813160Z"
        },
        "id": "Q5RE-E0uOuGt"
      },
      "outputs": [],
      "source": [
        "import tensorflow as tf\n",
        "from tensorflow.keras.preprocessing.text import Tokenizer\n",
        "from tensorflow.keras.layers import Embedding, LSTM, Dense\n",
        "from tensorflow.keras.models import Sequential\n",
        "from tensorflow.keras.utils import to_categorical\n",
        "from tensorflow.keras.optimizers import Adam\n",
        "import pickle\n",
        "from google.colab import files\n",
        "import numpy as np\n",
        "import os"
      ]
    },
    {
      "cell_type": "markdown",
      "metadata": {
        "id": "la_IG-dWPSr7"
      },
      "source": [
        "**Importing the data**"
      ]
    },
    {
      "cell_type": "code",
      "source": [
        "uploaded = files.upload()"
      ],
      "metadata": {
        "colab": {
          "resources": {
            "http://localhost:8080/nbextensions/google.colab/files.js": {
              "data": "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",
              "ok": true,
              "headers": [
                [
                  "content-type",
                  "application/javascript"
                ]
              ],
              "status": 200,
              "status_text": ""
            }
          },
          "base_uri": "https://localhost:8080/",
          "height": 74
        },
        "id": "InY-NEfqNgBn",
        "outputId": "8adc9e44-54a8-4130-b272-dfb9cdbe49e7"
      },
      "execution_count": null,
      "outputs": [
        {
          "output_type": "display_data",
          "data": {
            "text/html": [
              "\n",
              "     <input type=\"file\" id=\"files-23173f94-bfc8-4f70-afb1-634a291a1c58\" name=\"files[]\" multiple disabled\n",
              "        style=\"border:none\" />\n",
              "     <output id=\"result-23173f94-bfc8-4f70-afb1-634a291a1c58\">\n",
              "      Upload widget is only available when the cell has been executed in the\n",
              "      current browser session. Please rerun this cell to enable.\n",
              "      </output>\n",
              "      <script src=\"/nbextensions/google.colab/files.js\"></script> "
            ],
            "text/plain": [
              "<IPython.core.display.HTML object>"
            ]
          },
          "metadata": {}
        },
        {
          "output_type": "stream",
          "name": "stdout",
          "text": [
            "Saving 1661-0.txt to 1661-0.txt\n"
          ]
        }
      ]
    },
    {
      "cell_type": "markdown",
      "metadata": {
        "id": "Pm2lMvHmPwf0"
      },
      "source": [
        "**Preprocessing the Data**"
      ]
    },
    {
      "cell_type": "code",
      "execution_count": null,
      "metadata": {
        "execution": {
          "iopub.execute_input": "2021-11-27T17:47:47.378562Z",
          "iopub.status.busy": "2021-11-27T17:47:47.378241Z",
          "iopub.status.idle": "2021-11-27T17:47:56.395349Z",
          "shell.execute_reply": "2021-11-27T17:47:56.394636Z",
          "shell.execute_reply.started": "2021-11-27T17:47:47.378519Z"
        },
        "id": "7sk02zQLP0Jz",
        "outputId": "c7cc5248-cdab-4413-aa73-a03501ed104a",
        "colab": {
          "base_uri": "https://localhost:8080/",
          "height": 70
        }
      },
      "outputs": [
        {
          "output_type": "execute_result",
          "data": {
            "application/vnd.google.colaboratory.intrinsic+json": {
              "type": "string"
            },
            "text/plain": [
              "\"Project Gutenberg's The Adventures of Sherlock Holmes, by Arthur Conan Doyle This eBook is for the use of anyone anywhere at no cost and with almost no restrictions whatsoever. You may copy it, give it away or re-use it under the terms of the Project Gutenberg License included with this eBook or online at www.gutenberg.net Title: The Adventures of Sherlock Holmes Author: Arthur Conan Doyle Release Date: November 29, 2002 [EBook #1661] Last Updated: May 20, 2019 Language: English Character set en\""
            ]
          },
          "metadata": {},
          "execution_count": 3
        }
      ],
      "source": [
        "file = open(\"1661-0.txt\", \"r\", encoding = \"utf8\")\n",
        "\n",
        "# store file in list\n",
        "lines = []\n",
        "for i in file:\n",
        "    lines.append(i)\n",
        "\n",
        "# Convert list to string\n",
        "data = \"\"\n",
        "for i in lines:\n",
        "  data = ' '. join(lines) \n",
        "\n",
        "# Replace unnecessary stuff with space\n",
        "data = data.replace('\\n', '').replace('\\r', '').replace('\\ufeff', '').replace('“','').replace('”','')  #new line, carriage return, unicode character --> replace by space\n",
        "\n",
        "# Remove unnecessary spaces \n",
        "data = data.split()\n",
        "data = ' '.join(data)\n",
        "data[:500]"
      ]
    },
    {
      "cell_type": "markdown",
      "metadata": {
        "id": "3KkVZaE4P-dM"
      },
      "source": [
        "**Finding the length of the data**"
      ]
    },
    {
      "cell_type": "code",
      "execution_count": null,
      "metadata": {
        "execution": {
          "iopub.execute_input": "2021-11-27T17:47:56.396724Z",
          "iopub.status.busy": "2021-11-27T17:47:56.396468Z",
          "iopub.status.idle": "2021-11-27T17:47:56.403356Z",
          "shell.execute_reply": "2021-11-27T17:47:56.402408Z",
          "shell.execute_reply.started": "2021-11-27T17:47:56.396694Z"
        },
        "id": "G3fnmgUtQBsH",
        "outputId": "c87784b2-ae60-481b-f79d-47645661d3a1",
        "colab": {
          "base_uri": "https://localhost:8080/"
        }
      },
      "outputs": [
        {
          "output_type": "execute_result",
          "data": {
            "text/plain": [
              "573660"
            ]
          },
          "metadata": {},
          "execution_count": 4
        }
      ],
      "source": [
        "len(data)"
      ]
    },
    {
      "cell_type": "markdown",
      "metadata": {
        "id": "78K00j1KQGok"
      },
      "source": [
        "**Setting up Tokenizer**"
      ]
    },
    {
      "cell_type": "code",
      "execution_count": null,
      "metadata": {
        "execution": {
          "iopub.execute_input": "2021-11-27T17:47:56.406063Z",
          "iopub.status.busy": "2021-11-27T17:47:56.405736Z",
          "iopub.status.idle": "2021-11-27T17:47:56.677564Z",
          "shell.execute_reply": "2021-11-27T17:47:56.676553Z",
          "shell.execute_reply.started": "2021-11-27T17:47:56.406019Z"
        },
        "id": "QKel5LABQJd8",
        "outputId": "8f0db82a-fd68-40c3-9421-a1f12fd4c5f6",
        "colab": {
          "base_uri": "https://localhost:8080/"
        }
      },
      "outputs": [
        {
          "output_type": "execute_result",
          "data": {
            "text/plain": [
              "[142, 4680, 1, 986, 5, 125, 33, 46, 556, 2164, 2165, 27, 987, 14, 22]"
            ]
          },
          "metadata": {},
          "execution_count": 5
        }
      ],
      "source": [
        "tokenizer = Tokenizer()\n",
        "tokenizer.fit_on_texts([data])\n",
        "\n",
        "# saving the tokenizer for predict function\n",
        "pickle.dump(tokenizer, open('token.pkl', 'wb'))\n",
        "\n",
        "sequence_data = tokenizer.texts_to_sequences([data])[0]\n",
        "sequence_data[:15]"
      ]
    },
    {
      "cell_type": "code",
      "execution_count": null,
      "metadata": {
        "execution": {
          "iopub.execute_input": "2021-11-27T17:47:56.678821Z",
          "iopub.status.busy": "2021-11-27T17:47:56.678602Z",
          "iopub.status.idle": "2021-11-27T17:47:56.686225Z",
          "shell.execute_reply": "2021-11-27T17:47:56.685119Z",
          "shell.execute_reply.started": "2021-11-27T17:47:56.678795Z"
        },
        "id": "3CywiuXFQNok",
        "outputId": "74ccad9b-655e-47d7-81ba-cc3f3bdf448b",
        "colab": {
          "base_uri": "https://localhost:8080/"
        }
      },
      "outputs": [
        {
          "output_type": "execute_result",
          "data": {
            "text/plain": [
              "108958"
            ]
          },
          "metadata": {},
          "execution_count": 6
        }
      ],
      "source": [
        "len(sequence_data)"
      ]
    },
    {
      "cell_type": "code",
      "execution_count": null,
      "metadata": {
        "execution": {
          "iopub.execute_input": "2021-11-27T17:47:56.687265Z",
          "iopub.status.busy": "2021-11-27T17:47:56.687064Z",
          "iopub.status.idle": "2021-11-27T17:47:56.698130Z",
          "shell.execute_reply": "2021-11-27T17:47:56.697149Z",
          "shell.execute_reply.started": "2021-11-27T17:47:56.687240Z"
        },
        "id": "kYPGrYX8QP8M",
        "outputId": "d202dc83-923b-489a-d77a-d700d94733f8",
        "colab": {
          "base_uri": "https://localhost:8080/"
        }
      },
      "outputs": [
        {
          "output_type": "stream",
          "name": "stdout",
          "text": [
            "8624\n"
          ]
        }
      ],
      "source": [
        "vocab_size = len(tokenizer.word_index) + 1\n",
        "print(vocab_size)"
      ]
    },
    {
      "cell_type": "code",
      "execution_count": null,
      "metadata": {
        "execution": {
          "iopub.execute_input": "2021-11-27T17:47:56.699615Z",
          "iopub.status.busy": "2021-11-27T17:47:56.699323Z",
          "iopub.status.idle": "2021-11-27T17:47:57.166166Z",
          "shell.execute_reply": "2021-11-27T17:47:57.165636Z",
          "shell.execute_reply.started": "2021-11-27T17:47:56.699584Z"
        },
        "id": "lLUjI9gfQSLt",
        "outputId": "c41d12b9-ddbd-4392-8875-22f692bc2bbf",
        "colab": {
          "base_uri": "https://localhost:8080/"
        }
      },
      "outputs": [
        {
          "output_type": "stream",
          "name": "stdout",
          "text": [
            "The Length of sequences are:  108955\n"
          ]
        },
        {
          "output_type": "execute_result",
          "data": {
            "text/plain": [
              "array([[ 142, 4680,    1,  986],\n",
              "       [4680,    1,  986,    5],\n",
              "       [   1,  986,    5,  125],\n",
              "       [ 986,    5,  125,   33],\n",
              "       [   5,  125,   33,   46],\n",
              "       [ 125,   33,   46,  556],\n",
              "       [  33,   46,  556, 2164],\n",
              "       [  46,  556, 2164, 2165],\n",
              "       [ 556, 2164, 2165,   27],\n",
              "       [2164, 2165,   27,  987]])"
            ]
          },
          "metadata": {},
          "execution_count": 8
        }
      ],
      "source": [
        "sequences = []\n",
        "\n",
        "for i in range(3, len(sequence_data)):\n",
        "    words = sequence_data[i-3 : i+1]\n",
        "    sequences.append(words)\n",
        "    \n",
        "print(\"The Length of sequences are: \", len(sequences))\n",
        "sequences = np.array(sequences)\n",
        "sequences[:10]"
      ]
    },
    {
      "cell_type": "code",
      "execution_count": null,
      "metadata": {
        "execution": {
          "iopub.execute_input": "2021-11-27T17:47:57.167883Z",
          "iopub.status.busy": "2021-11-27T17:47:57.167192Z",
          "iopub.status.idle": "2021-11-27T17:47:57.396375Z",
          "shell.execute_reply": "2021-11-27T17:47:57.395602Z",
          "shell.execute_reply.started": "2021-11-27T17:47:57.167846Z"
        },
        "id": "5WXDBl8aQUQk"
      },
      "outputs": [],
      "source": [
        "X = []\n",
        "y = []\n",
        "\n",
        "for i in sequences:\n",
        "    X.append(i[0 : 3])\n",
        "    y.append(i[3])\n",
        "    \n",
        "X = np.array(X)\n",
        "y = np.array(y)"
      ]
    },
    {
      "cell_type": "code",
      "execution_count": null,
      "metadata": {
        "execution": {
          "iopub.execute_input": "2021-11-27T17:47:57.397804Z",
          "iopub.status.busy": "2021-11-27T17:47:57.397526Z",
          "iopub.status.idle": "2021-11-27T17:47:57.403684Z",
          "shell.execute_reply": "2021-11-27T17:47:57.402910Z",
          "shell.execute_reply.started": "2021-11-27T17:47:57.397774Z"
        },
        "id": "8QETfj5RQWTk",
        "outputId": "f177b3b4-0064-4ec0-a230-0e51b5475ff0",
        "colab": {
          "base_uri": "https://localhost:8080/"
        }
      },
      "outputs": [
        {
          "output_type": "stream",
          "name": "stdout",
          "text": [
            "Data: [[ 142 4680    1]\n",
            " [4680    1  986]\n",
            " [   1  986    5]\n",
            " [ 986    5  125]\n",
            " [   5  125   33]\n",
            " [ 125   33   46]\n",
            " [  33   46  556]\n",
            " [  46  556 2164]\n",
            " [ 556 2164 2165]\n",
            " [2164 2165   27]]\n",
            "Response: [ 986    5  125   33   46  556 2164 2165   27  987]\n"
          ]
        }
      ],
      "source": [
        "print(\"Data:\", X[:10])\n",
        "print(\"Response:\", y[:10])"
      ]
    },
    {
      "cell_type": "code",
      "execution_count": null,
      "metadata": {
        "execution": {
          "iopub.execute_input": "2021-11-27T17:47:57.406158Z",
          "iopub.status.busy": "2021-11-27T17:47:57.405921Z",
          "iopub.status.idle": "2021-11-27T17:47:57.702055Z",
          "shell.execute_reply": "2021-11-27T17:47:57.701285Z",
          "shell.execute_reply.started": "2021-11-27T17:47:57.406130Z"
        },
        "id": "D3DxDHtiQYgc",
        "outputId": "26b57672-a654-4679-f5fb-e3cace6d3469",
        "colab": {
          "base_uri": "https://localhost:8080/"
        }
      },
      "outputs": [
        {
          "output_type": "execute_result",
          "data": {
            "text/plain": [
              "array([[0., 0., 0., ..., 0., 0., 0.],\n",
              "       [0., 0., 0., ..., 0., 0., 0.],\n",
              "       [0., 0., 0., ..., 0., 0., 0.],\n",
              "       [0., 0., 0., ..., 0., 0., 0.],\n",
              "       [0., 0., 0., ..., 0., 0., 0.]], dtype=float32)"
            ]
          },
          "metadata": {},
          "execution_count": 11
        }
      ],
      "source": [
        "y = to_categorical(y, num_classes=vocab_size)\n",
        "y[ : 5]"
      ]
    },
    {
      "cell_type": "markdown",
      "metadata": {
        "id": "5zgD3UniQb_M"
      },
      "source": [
        "**MODEL SETUP**"
      ]
    },
    {
      "cell_type": "code",
      "execution_count": null,
      "metadata": {
        "execution": {
          "iopub.execute_input": "2021-11-27T17:47:57.703252Z",
          "iopub.status.busy": "2021-11-27T17:47:57.703048Z",
          "iopub.status.idle": "2021-11-27T17:48:00.259284Z",
          "shell.execute_reply": "2021-11-27T17:48:00.257986Z",
          "shell.execute_reply.started": "2021-11-27T17:47:57.703226Z"
        },
        "id": "Iz5C-kaZQgdn"
      },
      "outputs": [],
      "source": [
        "model = Sequential()\n",
        "model.add(Embedding(vocab_size, 10, input_length = 3))\n",
        "model.add(LSTM(1000, return_sequences = True))\n",
        "model.add(LSTM(1000))\n",
        "model.add(Dense(1000, activation = \"relu\"))\n",
        "model.add(Dense(vocab_size, activation = \"softmax\"))"
      ]
    },
    {
      "cell_type": "code",
      "execution_count": null,
      "metadata": {
        "execution": {
          "iopub.execute_input": "2021-11-27T17:48:00.260813Z",
          "iopub.status.busy": "2021-11-27T17:48:00.260563Z",
          "iopub.status.idle": "2021-11-27T17:48:00.275372Z",
          "shell.execute_reply": "2021-11-27T17:48:00.274554Z",
          "shell.execute_reply.started": "2021-11-27T17:48:00.260782Z"
        },
        "id": "El9jBtkvQkCs",
        "outputId": "dcd602c2-2fe1-4d72-b701-76a295756b2b",
        "colab": {
          "base_uri": "https://localhost:8080/"
        }
      },
      "outputs": [
        {
          "output_type": "stream",
          "name": "stdout",
          "text": [
            "Model: \"sequential\"\n",
            "_________________________________________________________________\n",
            " Layer (type)                Output Shape              Param #   \n",
            "=================================================================\n",
            " embedding (Embedding)       (None, 3, 10)             86240     \n",
            "                                                                 \n",
            " lstm (LSTM)                 (None, 3, 1000)           4044000   \n",
            "                                                                 \n",
            " lstm_1 (LSTM)               (None, 1000)              8004000   \n",
            "                                                                 \n",
            " dense (Dense)               (None, 1000)              1001000   \n",
            "                                                                 \n",
            " dense_1 (Dense)             (None, 8624)              8632624   \n",
            "                                                                 \n",
            "=================================================================\n",
            "Total params: 21,767,864\n",
            "Trainable params: 21,767,864\n",
            "Non-trainable params: 0\n",
            "_________________________________________________________________\n"
          ]
        }
      ],
      "source": [
        "model.summary()"
      ]
    },
    {
      "cell_type": "code",
      "execution_count": null,
      "metadata": {
        "execution": {
          "iopub.execute_input": "2021-11-27T17:48:01.367229Z",
          "iopub.status.busy": "2021-11-27T17:48:01.366733Z",
          "iopub.status.idle": "2021-11-27T20:14:32.660521Z",
          "shell.execute_reply": "2021-11-27T20:14:32.657853Z",
          "shell.execute_reply.started": "2021-11-27T17:48:01.367190Z"
        },
        "id": "Ep0O9l0TQrGM",
        "outputId": "0a442de9-a329-479a-d4d7-e56ae90fffca",
        "colab": {
          "base_uri": "https://localhost:8080/"
        }
      },
      "outputs": [
        {
          "output_type": "stream",
          "name": "stdout",
          "text": [
            "Epoch 1/20\n",
            "1700/1703 [============================>.] - ETA: 0s - loss: 6.3872\n",
            "Epoch 00001: loss improved from inf to 6.38684, saving model to next_words.h5\n",
            "1703/1703 [==============================] - 33s 16ms/step - loss: 6.3868\n",
            "Epoch 2/20\n",
            "1702/1703 [============================>.] - ETA: 0s - loss: 5.7980\n",
            "Epoch 00002: loss improved from 6.38684 to 5.79818, saving model to next_words.h5\n",
            "1703/1703 [==============================] - 28s 16ms/step - loss: 5.7982\n",
            "Epoch 3/20\n",
            "1702/1703 [============================>.] - ETA: 0s - loss: 5.4752\n",
            "Epoch 00003: loss improved from 5.79818 to 5.47512, saving model to next_words.h5\n",
            "1703/1703 [==============================] - 28s 16ms/step - loss: 5.4751\n",
            "Epoch 4/20\n",
            "1700/1703 [============================>.] - ETA: 0s - loss: 5.2116\n",
            "Epoch 00004: loss improved from 5.47512 to 5.21210, saving model to next_words.h5\n",
            "1703/1703 [==============================] - 28s 16ms/step - loss: 5.2121\n",
            "Epoch 5/20\n",
            "1700/1703 [============================>.] - ETA: 0s - loss: 4.9797\n",
            "Epoch 00005: loss improved from 5.21210 to 4.97924, saving model to next_words.h5\n",
            "1703/1703 [==============================] - 28s 16ms/step - loss: 4.9792\n",
            "Epoch 6/20\n",
            "1701/1703 [============================>.] - ETA: 0s - loss: 4.7513\n",
            "Epoch 00006: loss improved from 4.97924 to 4.75142, saving model to next_words.h5\n",
            "1703/1703 [==============================] - 28s 16ms/step - loss: 4.7514\n",
            "Epoch 7/20\n",
            "1703/1703 [==============================] - ETA: 0s - loss: 4.5154\n",
            "Epoch 00007: loss improved from 4.75142 to 4.51541, saving model to next_words.h5\n",
            "1703/1703 [==============================] - 28s 16ms/step - loss: 4.5154\n",
            "Epoch 8/20\n",
            "1700/1703 [============================>.] - ETA: 0s - loss: 4.2697\n",
            "Epoch 00008: loss improved from 4.51541 to 4.26955, saving model to next_words.h5\n",
            "1703/1703 [==============================] - 28s 16ms/step - loss: 4.2696\n",
            "Epoch 9/20\n",
            "1701/1703 [============================>.] - ETA: 0s - loss: 4.0198\n",
            "Epoch 00009: loss improved from 4.26955 to 4.02011, saving model to next_words.h5\n",
            "1703/1703 [==============================] - 28s 16ms/step - loss: 4.0201\n",
            "Epoch 10/20\n",
            "1703/1703 [==============================] - ETA: 0s - loss: 3.7626\n",
            "Epoch 00010: loss improved from 4.02011 to 3.76265, saving model to next_words.h5\n",
            "1703/1703 [==============================] - 28s 16ms/step - loss: 3.7626\n",
            "Epoch 11/20\n",
            "1701/1703 [============================>.] - ETA: 0s - loss: 3.5089\n",
            "Epoch 00011: loss improved from 3.76265 to 3.50900, saving model to next_words.h5\n",
            "1703/1703 [==============================] - 28s 16ms/step - loss: 3.5090\n",
            "Epoch 12/20\n",
            "1703/1703 [==============================] - ETA: 0s - loss: 3.2570\n",
            "Epoch 00012: loss improved from 3.50900 to 3.25700, saving model to next_words.h5\n",
            "1703/1703 [==============================] - 28s 16ms/step - loss: 3.2570\n",
            "Epoch 13/20\n",
            "1700/1703 [============================>.] - ETA: 0s - loss: 3.0116\n",
            "Epoch 00013: loss improved from 3.25700 to 3.01188, saving model to next_words.h5\n",
            "1703/1703 [==============================] - 28s 16ms/step - loss: 3.0119\n",
            "Epoch 14/20\n",
            "1702/1703 [============================>.] - ETA: 0s - loss: 2.7732\n",
            "Epoch 00014: loss improved from 3.01188 to 2.77341, saving model to next_words.h5\n",
            "1703/1703 [==============================] - 28s 16ms/step - loss: 2.7734\n",
            "Epoch 15/20\n",
            "1703/1703 [==============================] - ETA: 0s - loss: 2.5385\n",
            "Epoch 00015: loss improved from 2.77341 to 2.53851, saving model to next_words.h5\n",
            "1703/1703 [==============================] - 28s 16ms/step - loss: 2.5385\n",
            "Epoch 16/20\n",
            "1700/1703 [============================>.] - ETA: 0s - loss: 2.3086\n",
            "Epoch 00016: loss improved from 2.53851 to 2.30898, saving model to next_words.h5\n",
            "1703/1703 [==============================] - 28s 16ms/step - loss: 2.3090\n",
            "Epoch 17/20\n",
            "1703/1703 [==============================] - ETA: 0s - loss: 2.0894\n",
            "Epoch 00017: loss improved from 2.30898 to 2.08940, saving model to next_words.h5\n",
            "1703/1703 [==============================] - 28s 16ms/step - loss: 2.0894\n",
            "Epoch 18/20\n",
            "1702/1703 [============================>.] - ETA: 0s - loss: 1.8777\n",
            "Epoch 00018: loss improved from 2.08940 to 1.87762, saving model to next_words.h5\n",
            "1703/1703 [==============================] - 28s 16ms/step - loss: 1.8776\n",
            "Epoch 19/20\n",
            "1702/1703 [============================>.] - ETA: 0s - loss: 1.6768\n",
            "Epoch 00019: loss improved from 1.87762 to 1.67693, saving model to next_words.h5\n",
            "1703/1703 [==============================] - 28s 16ms/step - loss: 1.6769\n",
            "Epoch 20/20\n",
            "1703/1703 [==============================] - ETA: 0s - loss: 1.4975\n",
            "Epoch 00020: loss improved from 1.67693 to 1.49751, saving model to next_words.h5\n",
            "1703/1703 [==============================] - 28s 16ms/step - loss: 1.4975\n"
          ]
        },
        {
          "output_type": "execute_result",
          "data": {
            "text/plain": [
              "<keras.callbacks.History at 0x7f94d6a7f250>"
            ]
          },
          "metadata": {},
          "execution_count": 14
        }
      ],
      "source": [
        "from tensorflow.keras.callbacks import ModelCheckpoint\n",
        "\n",
        "checkpoint = ModelCheckpoint(\"next_words.h5\", monitor='loss', verbose=1, save_best_only=True)\n",
        "model.compile(loss=\"categorical_crossentropy\", optimizer=Adam(learning_rate=0.001))\n",
        "model.fit(X, y, epochs=20, batch_size=64, callbacks=[checkpoint])"
      ]
    },
    {
      "cell_type": "markdown",
      "metadata": {
        "id": "N7p8rxA7QviC"
      },
      "source": [
        "**Prediction**"
      ]
    },
    {
      "cell_type": "code",
      "execution_count": null,
      "metadata": {
        "execution": {
          "iopub.execute_input": "2021-11-27T20:14:32.668352Z",
          "iopub.status.busy": "2021-11-27T20:14:32.667773Z",
          "iopub.status.idle": "2021-11-27T20:14:35.622109Z",
          "shell.execute_reply": "2021-11-27T20:14:35.621266Z",
          "shell.execute_reply.started": "2021-11-27T20:14:32.668251Z"
        },
        "id": "R1VsqItzQysE"
      },
      "outputs": [],
      "source": [
        "from tensorflow.keras.models import load_model\n",
        "import numpy as np\n",
        "import pickle\n",
        "\n",
        "# Load the model and tokenizer\n",
        "model = load_model('next_words.h5')\n",
        "tokenizer = pickle.load(open('token.pkl', 'rb'))\n",
        "\n",
        "def Predict_Next_Words(model, tokenizer, text):\n",
        "\n",
        "  sequence = tokenizer.texts_to_sequences([text])\n",
        "  sequence = np.array(sequence)\n",
        "  preds = np.argmax(model.predict(sequence))\n",
        "  predicted_word = \"\"\n",
        "  \n",
        "  for key, value in tokenizer.word_index.items():\n",
        "      if value == preds:\n",
        "          predicted_word = key\n",
        "          break\n",
        "  \n",
        "  print(predicted_word)\n",
        "  return predicted_word"
      ]
    },
    {
      "cell_type": "code",
      "execution_count": null,
      "metadata": {
        "execution": {
          "iopub.execute_input": "2021-11-27T20:14:35.624042Z",
          "iopub.status.busy": "2021-11-27T20:14:35.623298Z"
        },
        "id": "Jq6rx-YDQ1Js",
        "colab": {
          "base_uri": "https://localhost:8080/"
        },
        "outputId": "b8226135-63f5-4088-dc7a-95804b05bd78"
      },
      "outputs": [
        {
          "output_type": "stream",
          "name": "stdout",
          "text": [
            "Enter your line: I had seen little of\n",
            "['seen', 'little', 'of']\n",
            "such\n",
            "Enter your line: 0\n",
            "Execution completed.....\n"
          ]
        }
      ],
      "source": [
        "while(True):\n",
        "  text = input(\"Enter your line: \")\n",
        "  \n",
        "  if text == \"0\":\n",
        "      print(\"Execution completed.....\")\n",
        "      break\n",
        "  \n",
        "  else:\n",
        "      try:\n",
        "          text = text.split(\" \")\n",
        "          text = text[-3:]\n",
        "          print(text)\n",
        "        \n",
        "          Predict_Next_Words(model, tokenizer, text)\n",
        "          \n",
        "      except Exception as e:\n",
        "        print(\"Error occurred: \",e)\n",
        "        continue"
      ]
    }
  ],
  "metadata": {
    "kernelspec": {
      "display_name": "Python 3",
      "language": "python",
      "name": "python3"
    },
    "language_info": {
      "codemirror_mode": {
        "name": "ipython",
        "version": 3
      },
      "file_extension": ".py",
      "mimetype": "text/x-python",
      "name": "python",
      "nbconvert_exporter": "python",
      "pygments_lexer": "ipython3",
      "version": "3.8.10"
    },
    "colab": {
      "name": "Next Word Prediction.ipynb",
      "provenance": []
    },
    "accelerator": "GPU"
  },
  "nbformat": 4,
  "nbformat_minor": 0
}