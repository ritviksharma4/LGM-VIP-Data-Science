{
  "metadata": {
    "kernelspec": {
      "language": "python",
      "display_name": "Python 3",
      "name": "python3"
    },
    "language_info": {
      "name": "python",
      "version": "3.7.10",
      "mimetype": "text/x-python",
      "codemirror_mode": {
        "name": "ipython",
        "version": 3
      },
      "pygments_lexer": "ipython3",
      "nbconvert_exporter": "python",
      "file_extension": ".py"
    },
    "colab": {
      "name": "Facial Recognition Detect Mood Song Suggestion.ipynb",
      "provenance": []
    }
  },
  "nbformat_minor": 0,
  "nbformat": 4,
  "cells": [
    {
      "cell_type": "markdown",
      "source": [
        "# LGM-VIP Data Science Internship Programme\n",
        "# Advanced Level Task-4\n",
        "# Name: ML Facial recognition to detect mood and suggest songs accordingly"
      ],
      "metadata": {
        "id": "UrF3QcHXLmc7"
      }
    },
    {
      "cell_type": "code",
      "source": [
        "import numpy as np\n",
        "import pandas as pd \n",
        "import os\n",
        "import matplotlib.pyplot as plt\n",
        "from google.colab import files\n",
        "import seaborn as sns\n",
        "import tensorflow as tf\n",
        "import keras\n",
        "from keras.preprocessing import image\n",
        "from keras.models import Sequential\n",
        "from keras.layers import Conv2D, MaxPool2D, Flatten,Dense,Dropout,BatchNormalization\n",
        "from tensorflow.keras.preprocessing.image import ImageDataGenerator\n",
        "import cv2\n",
        "from tensorflow.keras.applications import VGG16, InceptionResNetV2\n",
        "from keras import regularizers\n",
        "from tensorflow.keras.optimizers import Adam,RMSprop,SGD,Adamax"
      ],
      "metadata": {
        "papermill": {
          "duration": 7.713848,
          "end_time": "2021-08-24T14:13:01.772516",
          "exception": false,
          "start_time": "2021-08-24T14:12:54.058668",
          "status": "completed"
        },
        "tags": [],
        "execution": {
          "iopub.status.busy": "2021-11-27T22:07:53.399850Z",
          "iopub.execute_input": "2021-11-27T22:07:53.400172Z",
          "iopub.status.idle": "2021-11-27T22:08:00.802119Z",
          "shell.execute_reply.started": "2021-11-27T22:07:53.400089Z",
          "shell.execute_reply": "2021-11-27T22:08:00.801208Z"
        },
        "trusted": true,
        "id": "rhuv0aDtLmc8"
      },
      "execution_count": 1,
      "outputs": []
    },
    {
      "cell_type": "code",
      "source": [
        "dataset = files.upload()"
      ],
      "metadata": {
        "colab": {
          "resources": {
            "http://localhost:8080/nbextensions/google.colab/files.js": {
              "data": "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",
              "ok": true,
              "headers": [
                [
                  "content-type",
                  "application/javascript"
                ]
              ],
              "status": 200,
              "status_text": ""
            }
          },
          "base_uri": "https://localhost:8080/",
          "height": 74
        },
        "id": "OvwFWL3lMIXO",
        "outputId": "2192df94-f381-48ab-dabd-71cdfb774a46"
      },
      "execution_count": 4,
      "outputs": [
        {
          "output_type": "display_data",
          "data": {
            "text/html": [
              "\n",
              "     <input type=\"file\" id=\"files-404d65fa-886d-42f3-908a-98c273d847dc\" name=\"files[]\" multiple disabled\n",
              "        style=\"border:none\" />\n",
              "     <output id=\"result-404d65fa-886d-42f3-908a-98c273d847dc\">\n",
              "      Upload widget is only available when the cell has been executed in the\n",
              "      current browser session. Please rerun this cell to enable.\n",
              "      </output>\n",
              "      <script src=\"/nbextensions/google.colab/files.js\"></script> "
            ],
            "text/plain": [
              "<IPython.core.display.HTML object>"
            ]
          },
          "metadata": {}
        },
        {
          "output_type": "stream",
          "name": "stdout",
          "text": [
            "Saving Dataset.zip to Dataset.zip\n"
          ]
        }
      ]
    },
    {
      "cell_type": "code",
      "source": [
        "!unzip Dataset.zip"
      ],
      "metadata": {
        "id": "ZHny4FkMOwvz"
      },
      "execution_count": null,
      "outputs": []
    },
    {
      "cell_type": "code",
      "source": [
        "!ls"
      ],
      "metadata": {
        "colab": {
          "base_uri": "https://localhost:8080/"
        },
        "id": "tmXZgkrURoL3",
        "outputId": "544e0981-47e6-4a13-87c1-69ae3132a496"
      },
      "execution_count": 15,
      "outputs": [
        {
          "output_type": "stream",
          "name": "stdout",
          "text": [
            "Dataset  Dataset.zip  sample_data\n"
          ]
        }
      ]
    },
    {
      "cell_type": "code",
      "source": [
        "train_dir = \"/content/Dataset/train\"\n",
        "test_dir = \"/content/Dataset/test\""
      ],
      "metadata": {
        "papermill": {
          "duration": 0.097207,
          "end_time": "2021-08-24T14:13:01.958033",
          "exception": false,
          "start_time": "2021-08-24T14:13:01.860826",
          "status": "completed"
        },
        "tags": [],
        "execution": {
          "iopub.status.busy": "2021-11-27T22:08:00.803603Z",
          "iopub.execute_input": "2021-11-27T22:08:00.803841Z",
          "iopub.status.idle": "2021-11-27T22:08:00.807850Z",
          "shell.execute_reply.started": "2021-11-27T22:08:00.803813Z",
          "shell.execute_reply": "2021-11-27T22:08:00.807024Z"
        },
        "trusted": true,
        "id": "F1aqBNU7Lmc9"
      },
      "execution_count": 16,
      "outputs": []
    },
    {
      "cell_type": "code",
      "source": [
        "img_size = 48"
      ],
      "metadata": {
        "papermill": {
          "duration": 0.098909,
          "end_time": "2021-08-24T14:13:02.146627",
          "exception": false,
          "start_time": "2021-08-24T14:13:02.047718",
          "status": "completed"
        },
        "tags": [],
        "execution": {
          "iopub.status.busy": "2021-11-27T22:08:00.809518Z",
          "iopub.execute_input": "2021-11-27T22:08:00.810119Z",
          "iopub.status.idle": "2021-11-27T22:08:00.827122Z",
          "shell.execute_reply.started": "2021-11-27T22:08:00.810075Z",
          "shell.execute_reply": "2021-11-27T22:08:00.826443Z"
        },
        "trusted": true,
        "id": "EdXUXjxRLmc-"
      },
      "execution_count": 17,
      "outputs": []
    },
    {
      "cell_type": "code",
      "source": [
        "train_datagen = ImageDataGenerator(width_shift_range = 0.1,\n",
        "                                         height_shift_range = 0.1,\n",
        "                                         horizontal_flip = True,\n",
        "                                         rescale = 1./255,\n",
        "                                         validation_split = 0.2\n",
        "                                        )\n",
        "validation_datagen = ImageDataGenerator(rescale = 1./255,\n",
        "                                         validation_split = 0.2)"
      ],
      "metadata": {
        "papermill": {
          "duration": 0.105911,
          "end_time": "2021-08-24T14:13:02.339303",
          "exception": false,
          "start_time": "2021-08-24T14:13:02.233392",
          "status": "completed"
        },
        "tags": [],
        "execution": {
          "iopub.status.busy": "2021-11-27T22:08:00.829611Z",
          "iopub.execute_input": "2021-11-27T22:08:00.830271Z",
          "iopub.status.idle": "2021-11-27T22:08:00.842033Z",
          "shell.execute_reply.started": "2021-11-27T22:08:00.830219Z",
          "shell.execute_reply": "2021-11-27T22:08:00.841194Z"
        },
        "trusted": true,
        "id": "G188JQaSLmc-"
      },
      "execution_count": 18,
      "outputs": []
    },
    {
      "cell_type": "code",
      "source": [
        "train_generator = train_datagen.flow_from_directory(directory = train_dir,\n",
        "                                                    target_size = (img_size,img_size),\n",
        "                                                    batch_size = 64,\n",
        "                                                    color_mode = \"grayscale\",\n",
        "                                                    class_mode = \"categorical\",\n",
        "                                                    subset = \"training\"\n",
        "                                                   )\n",
        "validation_generator = validation_datagen.flow_from_directory( directory = test_dir,\n",
        "                                                              target_size = (img_size,img_size),\n",
        "                                                              batch_size = 64,\n",
        "                                                              color_mode = \"grayscale\",\n",
        "                                                              class_mode = \"categorical\",\n",
        "                                                              subset = \"validation\"\n",
        "                                                             )"
      ],
      "metadata": {
        "papermill": {
          "duration": 0.881368,
          "end_time": "2021-08-24T14:13:03.308269",
          "exception": false,
          "start_time": "2021-08-24T14:13:02.426901",
          "status": "completed"
        },
        "tags": [],
        "execution": {
          "iopub.status.busy": "2021-11-27T22:08:00.843660Z",
          "iopub.execute_input": "2021-11-27T22:08:00.843978Z",
          "iopub.status.idle": "2021-11-27T22:08:20.216418Z",
          "shell.execute_reply.started": "2021-11-27T22:08:00.843937Z",
          "shell.execute_reply": "2021-11-27T22:08:20.215797Z"
        },
        "trusted": true,
        "colab": {
          "base_uri": "https://localhost:8080/"
        },
        "id": "1rGWc6ZiLmc_",
        "outputId": "70b96242-b6a0-4c97-b253-30506df3fde9"
      },
      "execution_count": 19,
      "outputs": [
        {
          "output_type": "stream",
          "name": "stdout",
          "text": [
            "Found 22968 images belonging to 7 classes.\n",
            "Found 1432 images belonging to 7 classes.\n"
          ]
        }
      ]
    },
    {
      "cell_type": "code",
      "source": [
        "model = tf.keras.Sequential([\n",
        "\n",
        "        # input layer\n",
        "        tf.keras.layers.Conv2D(32,(3,3),activation = 'relu',input_shape=(48,48,1)),\n",
        "        tf.keras.layers.Conv2D(64,(3,3), padding='same', activation='relu' ),\n",
        "        tf.keras.layers.BatchNormalization(),\n",
        "        tf.keras.layers.MaxPooling2D(2,2),\n",
        "        tf.keras.layers.Dropout(0.25),\n",
        "\n",
        "        # 1st hidden dense layer\n",
        "        tf.keras.layers.Conv2D(128,(5,5), padding='same', activation='relu'),\n",
        "        tf.keras.layers.BatchNormalization(),\n",
        "        tf.keras.layers.MaxPooling2D(2,2),\n",
        "        tf.keras.layers.Dropout(0.25),\n",
        "    \n",
        "        # 2nd hidden dense layer\n",
        "        tf.keras.layers.Conv2D(512,(3,3), padding='same', activation='relu',kernel_regularizer=tf.keras.regularizers.l2(0.01)),\n",
        "        tf.keras.layers.BatchNormalization(),\n",
        "        tf.keras.layers.MaxPooling2D(2,2),\n",
        "        tf.keras.layers.Dropout(0.25),\n",
        "    \n",
        "        # 3rd hidden dense layer\n",
        "        tf.keras.layers.Conv2D(512,(3,3), padding='same', activation='relu',kernel_regularizer=tf.keras.regularizers.l2(0.01)),\n",
        "        tf.keras.layers.BatchNormalization(),\n",
        "        tf.keras.layers.MaxPooling2D(2,2),\n",
        "        tf.keras.layers.Dropout(0.25),\n",
        "    \n",
        "        # Flatten layer\n",
        "        tf.keras.layers.Flatten(),\n",
        "        tf.keras.layers.Dense(256, activation='relu'),\n",
        "        tf.keras.layers.BatchNormalization(),\n",
        "        tf.keras.layers.Dropout(0.25),\n",
        "    \n",
        "        tf.keras.layers.Dense(512, activation='relu'),\n",
        "        tf.keras.layers.BatchNormalization(),\n",
        "        tf.keras.layers.Dropout(0.25),\n",
        "        # output layer\n",
        "        tf.keras.layers.Dense(7, activation='softmax')\n",
        "    ])"
      ],
      "metadata": {
        "papermill": {
          "duration": 2.996189,
          "end_time": "2021-08-24T14:13:06.398008",
          "exception": false,
          "start_time": "2021-08-24T14:13:03.401819",
          "status": "completed"
        },
        "tags": [],
        "execution": {
          "iopub.status.busy": "2021-11-27T22:08:20.217521Z",
          "iopub.execute_input": "2021-11-27T22:08:20.218197Z",
          "iopub.status.idle": "2021-11-27T22:08:20.557102Z",
          "shell.execute_reply.started": "2021-11-27T22:08:20.218160Z",
          "shell.execute_reply": "2021-11-27T22:08:20.556146Z"
        },
        "trusted": true,
        "id": "S8k-QFbGLmc_"
      },
      "execution_count": 20,
      "outputs": []
    },
    {
      "cell_type": "code",
      "source": [
        "optimiser = tf.keras.optimizers.Adam(lr=0.0001)\n",
        "model.compile(optimizer=optimiser,\n",
        "                  loss='categorical_crossentropy',\n",
        "                  metrics=['accuracy'])\n",
        "\n",
        "model.summary()"
      ],
      "metadata": {
        "papermill": {
          "duration": 0.138572,
          "end_time": "2021-08-24T14:13:06.627600",
          "exception": false,
          "start_time": "2021-08-24T14:13:06.489028",
          "status": "completed"
        },
        "tags": [],
        "execution": {
          "iopub.status.busy": "2021-11-27T22:08:20.558464Z",
          "iopub.execute_input": "2021-11-27T22:08:20.559351Z",
          "iopub.status.idle": "2021-11-27T22:08:20.588008Z",
          "shell.execute_reply.started": "2021-11-27T22:08:20.559313Z",
          "shell.execute_reply": "2021-11-27T22:08:20.587242Z"
        },
        "trusted": true,
        "colab": {
          "base_uri": "https://localhost:8080/"
        },
        "id": "8bDfCJ4zLmdA",
        "outputId": "7f9cfedb-16ed-43ef-e06e-b44e6c07bc3d"
      },
      "execution_count": 21,
      "outputs": [
        {
          "output_type": "stream",
          "name": "stdout",
          "text": [
            "Model: \"sequential\"\n",
            "_________________________________________________________________\n",
            " Layer (type)                Output Shape              Param #   \n",
            "=================================================================\n",
            " conv2d (Conv2D)             (None, 46, 46, 32)        320       \n",
            "                                                                 \n",
            " conv2d_1 (Conv2D)           (None, 46, 46, 64)        18496     \n",
            "                                                                 \n",
            " batch_normalization (BatchN  (None, 46, 46, 64)       256       \n",
            " ormalization)                                                   \n",
            "                                                                 \n",
            " max_pooling2d (MaxPooling2D  (None, 23, 23, 64)       0         \n",
            " )                                                               \n",
            "                                                                 \n",
            " dropout (Dropout)           (None, 23, 23, 64)        0         \n",
            "                                                                 \n",
            " conv2d_2 (Conv2D)           (None, 23, 23, 128)       204928    \n",
            "                                                                 \n",
            " batch_normalization_1 (Batc  (None, 23, 23, 128)      512       \n",
            " hNormalization)                                                 \n",
            "                                                                 \n",
            " max_pooling2d_1 (MaxPooling  (None, 11, 11, 128)      0         \n",
            " 2D)                                                             \n",
            "                                                                 \n",
            " dropout_1 (Dropout)         (None, 11, 11, 128)       0         \n",
            "                                                                 \n",
            " conv2d_3 (Conv2D)           (None, 11, 11, 512)       590336    \n",
            "                                                                 \n",
            " batch_normalization_2 (Batc  (None, 11, 11, 512)      2048      \n",
            " hNormalization)                                                 \n",
            "                                                                 \n",
            " max_pooling2d_2 (MaxPooling  (None, 5, 5, 512)        0         \n",
            " 2D)                                                             \n",
            "                                                                 \n",
            " dropout_2 (Dropout)         (None, 5, 5, 512)         0         \n",
            "                                                                 \n",
            " conv2d_4 (Conv2D)           (None, 5, 5, 512)         2359808   \n",
            "                                                                 \n",
            " batch_normalization_3 (Batc  (None, 5, 5, 512)        2048      \n",
            " hNormalization)                                                 \n",
            "                                                                 \n",
            " max_pooling2d_3 (MaxPooling  (None, 2, 2, 512)        0         \n",
            " 2D)                                                             \n",
            "                                                                 \n",
            " dropout_3 (Dropout)         (None, 2, 2, 512)         0         \n",
            "                                                                 \n",
            " flatten (Flatten)           (None, 2048)              0         \n",
            "                                                                 \n",
            " dense (Dense)               (None, 256)               524544    \n",
            "                                                                 \n",
            " batch_normalization_4 (Batc  (None, 256)              1024      \n",
            " hNormalization)                                                 \n",
            "                                                                 \n",
            " dropout_4 (Dropout)         (None, 256)               0         \n",
            "                                                                 \n",
            " dense_1 (Dense)             (None, 512)               131584    \n",
            "                                                                 \n",
            " batch_normalization_5 (Batc  (None, 512)              2048      \n",
            " hNormalization)                                                 \n",
            "                                                                 \n",
            " dropout_5 (Dropout)         (None, 512)               0         \n",
            "                                                                 \n",
            " dense_2 (Dense)             (None, 7)                 3591      \n",
            "                                                                 \n",
            "=================================================================\n",
            "Total params: 3,841,543\n",
            "Trainable params: 3,837,575\n",
            "Non-trainable params: 3,968\n",
            "_________________________________________________________________\n"
          ]
        },
        {
          "output_type": "stream",
          "name": "stderr",
          "text": [
            "/usr/local/lib/python3.7/dist-packages/keras/optimizer_v2/adam.py:105: UserWarning: The `lr` argument is deprecated, use `learning_rate` instead.\n",
            "  super(Adam, self).__init__(name, **kwargs)\n"
          ]
        }
      ]
    },
    {
      "cell_type": "code",
      "source": [
        "epochs = 20\n",
        "batch_size = 64"
      ],
      "metadata": {
        "papermill": {
          "duration": 0.098805,
          "end_time": "2021-08-24T14:13:06.816584",
          "exception": false,
          "start_time": "2021-08-24T14:13:06.717779",
          "status": "completed"
        },
        "tags": [],
        "execution": {
          "iopub.status.busy": "2021-11-27T22:08:20.589287Z",
          "iopub.execute_input": "2021-11-27T22:08:20.589608Z",
          "iopub.status.idle": "2021-11-27T22:08:20.594412Z",
          "shell.execute_reply.started": "2021-11-27T22:08:20.589567Z",
          "shell.execute_reply": "2021-11-27T22:08:20.593489Z"
        },
        "trusted": true,
        "id": "gOkMCemhLmdA"
      },
      "execution_count": 22,
      "outputs": []
    },
    {
      "cell_type": "code",
      "source": [
        "history = model.fit(x = train_generator,epochs = epochs,validation_data = validation_generator)"
      ],
      "metadata": {
        "papermill": {
          "duration": 3493.917397,
          "end_time": "2021-08-24T15:11:20.822294",
          "exception": false,
          "start_time": "2021-08-24T14:13:06.904897",
          "status": "completed"
        },
        "tags": [],
        "execution": {
          "iopub.status.busy": "2021-11-27T22:08:20.595954Z",
          "iopub.execute_input": "2021-11-27T22:08:20.596345Z",
          "iopub.status.idle": "2021-11-28T00:28:02.742959Z",
          "shell.execute_reply.started": "2021-11-27T22:08:20.596301Z",
          "shell.execute_reply": "2021-11-28T00:28:02.741183Z"
        },
        "trusted": true,
        "colab": {
          "base_uri": "https://localhost:8080/"
        },
        "id": "T27XpU2cLmdB",
        "outputId": "13415050-22c6-48af-91b9-2e2dad987f75"
      },
      "execution_count": 23,
      "outputs": [
        {
          "output_type": "stream",
          "name": "stdout",
          "text": [
            "Epoch 1/20\n",
            "359/359 [==============================] - 971s 3s/step - loss: 9.3400 - accuracy: 0.1887 - val_loss: 8.7541 - val_accuracy: 0.2451\n",
            "Epoch 2/20\n",
            "359/359 [==============================] - 977s 3s/step - loss: 8.3669 - accuracy: 0.2173 - val_loss: 7.6295 - val_accuracy: 0.2758\n",
            "Epoch 3/20\n",
            "359/359 [==============================] - 975s 3s/step - loss: 7.4197 - accuracy: 0.2379 - val_loss: 6.6943 - val_accuracy: 0.3156\n",
            "Epoch 4/20\n",
            "359/359 [==============================] - 959s 3s/step - loss: 6.5040 - accuracy: 0.2624 - val_loss: 5.8290 - val_accuracy: 0.3387\n",
            "Epoch 5/20\n",
            "359/359 [==============================] - 956s 3s/step - loss: 5.6479 - accuracy: 0.2976 - val_loss: 5.0600 - val_accuracy: 0.3757\n",
            "Epoch 6/20\n",
            "359/359 [==============================] - 955s 3s/step - loss: 4.9014 - accuracy: 0.3274 - val_loss: 4.3540 - val_accuracy: 0.4071\n",
            "Epoch 7/20\n",
            "359/359 [==============================] - 956s 3s/step - loss: 4.2456 - accuracy: 0.3593 - val_loss: 3.8792 - val_accuracy: 0.3778\n",
            "Epoch 8/20\n",
            "359/359 [==============================] - 951s 3s/step - loss: 3.7218 - accuracy: 0.3805 - val_loss: 3.3348 - val_accuracy: 0.4441\n",
            "Epoch 9/20\n",
            "359/359 [==============================] - 948s 3s/step - loss: 3.2887 - accuracy: 0.4042 - val_loss: 3.3931 - val_accuracy: 0.3932\n",
            "Epoch 10/20\n",
            "359/359 [==============================] - 958s 3s/step - loss: 2.9205 - accuracy: 0.4259 - val_loss: 2.7802 - val_accuracy: 0.4553\n",
            "Epoch 11/20\n",
            "359/359 [==============================] - 953s 3s/step - loss: 2.6423 - accuracy: 0.4418 - val_loss: 2.4571 - val_accuracy: 0.4818\n",
            "Epoch 12/20\n",
            "359/359 [==============================] - 957s 3s/step - loss: 2.4104 - accuracy: 0.4675 - val_loss: 2.1513 - val_accuracy: 0.5293\n",
            "Epoch 13/20\n",
            "359/359 [==============================] - 958s 3s/step - loss: 2.2325 - accuracy: 0.4796 - val_loss: 2.0342 - val_accuracy: 0.5335\n",
            "Epoch 14/20\n",
            "359/359 [==============================] - 953s 3s/step - loss: 2.0955 - accuracy: 0.4963 - val_loss: 1.8984 - val_accuracy: 0.5566\n",
            "Epoch 15/20\n",
            "359/359 [==============================] - 951s 3s/step - loss: 1.9839 - accuracy: 0.5054 - val_loss: 1.8789 - val_accuracy: 0.5363\n",
            "Epoch 16/20\n",
            "359/359 [==============================] - 956s 3s/step - loss: 1.8831 - accuracy: 0.5182 - val_loss: 1.7010 - val_accuracy: 0.5873\n",
            "Epoch 17/20\n",
            "359/359 [==============================] - 953s 3s/step - loss: 1.7990 - accuracy: 0.5282 - val_loss: 1.6301 - val_accuracy: 0.5950\n",
            "Epoch 18/20\n",
            "359/359 [==============================] - 953s 3s/step - loss: 1.7344 - accuracy: 0.5385 - val_loss: 1.6665 - val_accuracy: 0.5642\n",
            "Epoch 19/20\n",
            "359/359 [==============================] - 958s 3s/step - loss: 1.6784 - accuracy: 0.5475 - val_loss: 1.5358 - val_accuracy: 0.5908\n",
            "Epoch 20/20\n",
            "359/359 [==============================] - 956s 3s/step - loss: 1.6313 - accuracy: 0.5570 - val_loss: 1.5723 - val_accuracy: 0.5838\n"
          ]
        }
      ]
    },
    {
      "cell_type": "code",
      "source": [
        "import matplotlib.pyplot as plt\n",
        "accuracy = history.history['accuracy']\n",
        "val_acc = history.history['val_accuracy']\n",
        "loss = history.history['loss']\n",
        "val_loss = history.history['val_loss']\n",
        "\n",
        "epochs = range(len(accuracy))\n",
        "\n",
        "plt.plot(epochs, accuracy, 'r', label='Training accuracy')\n",
        "plt.plot(epochs, val_acc, 'b', label='Validation accuracy')\n",
        "plt.title('Training and validation accuracy')\n",
        "plt.legend(loc=0)\n",
        "plt.figure()\n",
        "\n",
        "\n",
        "plt.show()\n",
        "\n",
        "\n",
        "\n",
        "plt.plot(epochs, loss, 'r', label='Training loss')\n",
        "plt.plot(epochs, val_loss, 'b', label='Validation loss')\n",
        "plt.title('Training and validation loss')\n",
        "plt.legend(loc=0)\n",
        "plt.show()"
      ],
      "metadata": {
        "papermill": {
          "duration": 12.67253,
          "end_time": "2021-08-24T15:11:46.470061",
          "exception": false,
          "start_time": "2021-08-24T15:11:33.797531",
          "status": "completed"
        },
        "tags": [],
        "execution": {
          "iopub.status.busy": "2021-11-28T00:28:02.750873Z",
          "iopub.execute_input": "2021-11-28T00:28:02.751384Z",
          "iopub.status.idle": "2021-11-28T00:28:03.302235Z",
          "shell.execute_reply.started": "2021-11-28T00:28:02.751317Z",
          "shell.execute_reply": "2021-11-28T00:28:03.301552Z"
        },
        "trusted": true,
        "colab": {
          "base_uri": "https://localhost:8080/",
          "height": 562
        },
        "id": "gQxHrH6ALmdB",
        "outputId": "807e261b-9ff9-46f7-bd6a-67ac9b541db1"
      },
      "execution_count": 24,
      "outputs": [
        {
          "output_type": "display_data",
          "data": {
            "image/png": "[encoded data removed]",
            "text/plain": [
              "<Figure size 432x288 with 1 Axes>"
            ]
          },
          "metadata": {
            "needs_background": "light"
          }
        },
        {
          "output_type": "display_data",
          "data": {
            "text/plain": [
              "<Figure size 432x288 with 0 Axes>"
            ]
          },
          "metadata": {}
        },
        {
          "output_type": "display_data",
          "data": {
            "image/png": "[encoded data removed]",
            "text/plain": [
              "<Figure size 432x288 with 1 Axes>"
            ]
          },
          "metadata": {
            "needs_background": "light"
          }
        }
      ]
    },
    {
      "cell_type": "code",
      "source": [
        "model.save('model_fer2013.h5')"
      ],
      "metadata": {
        "papermill": {
          "duration": 13.103415,
          "end_time": "2021-08-24T15:12:11.767316",
          "exception": false,
          "start_time": "2021-08-24T15:11:58.663901",
          "status": "completed"
        },
        "tags": [],
        "execution": {
          "iopub.status.busy": "2021-11-28T00:28:03.303673Z",
          "iopub.execute_input": "2021-11-28T00:28:03.304188Z",
          "iopub.status.idle": "2021-11-28T00:28:03.547558Z",
          "shell.execute_reply.started": "2021-11-28T00:28:03.304141Z",
          "shell.execute_reply": "2021-11-28T00:28:03.546649Z"
        },
        "trusted": true,
        "id": "4kaimD4hLmdB"
      },
      "execution_count": 25,
      "outputs": []
    },
    {
      "cell_type": "code",
      "source": [
        "train_loss, train_acc = model.evaluate(train_generator)\n",
        "test_loss, test_acc   = model.evaluate(validation_generator)\n",
        "print(\"final train accuracy = {:.2f} , validation accuracy = {:.2f}\".format(train_acc*100, test_acc*100))"
      ],
      "metadata": {
        "papermill": {
          "duration": 43.220067,
          "end_time": "2021-08-24T15:13:07.339990",
          "exception": false,
          "start_time": "2021-08-24T15:12:24.119923",
          "status": "completed"
        },
        "tags": [],
        "execution": {
          "iopub.status.busy": "2021-11-28T00:28:03.549102Z",
          "iopub.execute_input": "2021-11-28T00:28:03.549397Z",
          "iopub.status.idle": "2021-11-28T00:30:10.118484Z",
          "shell.execute_reply.started": "2021-11-28T00:28:03.549357Z",
          "shell.execute_reply": "2021-11-28T00:30:10.117649Z"
        },
        "trusted": true,
        "colab": {
          "base_uri": "https://localhost:8080/"
        },
        "id": "mVc68mmpLmdC",
        "outputId": "f613b711-693f-4a9d-841c-c73285e3f08e"
      },
      "execution_count": 26,
      "outputs": [
        {
          "output_type": "stream",
          "name": "stdout",
          "text": [
            "359/359 [==============================] - 215s 599ms/step - loss: 1.5221 - accuracy: 0.5952\n",
            "23/23 [==============================] - 13s 564ms/step - loss: 1.5723 - accuracy: 0.5838\n",
            "final train accuracy = 59.52 , validation accuracy = 58.38\n"
          ]
        }
      ]
    },
    {
      "cell_type": "code",
      "source": [
        "img = image.load_img(\"/content/Dataset/test/fear/PrivateTest_11014592.jpg\",target_size = (48,48),color_mode = \"grayscale\")\n",
        "img = np.array(img)\n",
        "plt.imshow(img)\n",
        "print(img.shape)"
      ],
      "metadata": {
        "id": "Qm6-4N58eB5k",
        "outputId": "d7e248c0-a51e-4afa-a1e2-dd97720f3b70",
        "colab": {
          "base_uri": "https://localhost:8080/",
          "height": 284
        }
      },
      "execution_count": 31,
      "outputs": [
        {
          "output_type": "stream",
          "name": "stdout",
          "text": [
            "(48, 48)\n"
          ]
        },
        {
          "output_type": "display_data",
          "data": {
            "image/png": "[encoded data removed]",
            "text/plain": [
              "<Figure size 432x288 with 1 Axes>"
            ]
          },
          "metadata": {
            "needs_background": "light"
          }
        }
      ]
    },
    {
      "cell_type": "code",
      "source": [
        "label_dict = {0:'Angry',1:'Disgust',2:'Fear',3:'Happy',4:'Neutral',5:'Sad',6:'Surprise'}"
      ],
      "metadata": {
        "id": "s0txbFo2eEhe"
      },
      "execution_count": 32,
      "outputs": []
    },
    {
      "cell_type": "code",
      "source": [
        "img = np.expand_dims(img,axis = 0) #makes image shape (1,48,48)\n",
        "img = img.reshape(1,48,48,1)\n",
        "result = model.predict(img)\n",
        "result = list(result[0])\n",
        "print(result)"
      ],
      "metadata": {
        "id": "ZHjrsrTteHqr",
        "outputId": "b78ece60-c333-4ef4-8620-89cdcf030180",
        "colab": {
          "base_uri": "https://localhost:8080/"
        }
      },
      "execution_count": 33,
      "outputs": [
        {
          "output_type": "stream",
          "name": "stdout",
          "text": [
            "[0.0, 8.3675565e-24, 3.8165634e-17, 0.0, 0.99999976, 2.5638187e-07, 0.0]\n"
          ]
        }
      ]
    },
    {
      "cell_type": "code",
      "source": [
        "img_index = result.index(max(result))\n",
        "print(label_dict[img_index])\n",
        "plt.show()"
      ],
      "metadata": {
        "papermill": {
          "duration": 12.525735,
          "end_time": "2021-08-24T15:14:50.408451",
          "exception": false,
          "start_time": "2021-08-24T15:14:37.882716",
          "status": "completed"
        },
        "tags": [],
        "execution": {
          "iopub.status.busy": "2021-11-28T00:30:10.756047Z",
          "iopub.execute_input": "2021-11-28T00:30:10.756702Z",
          "iopub.status.idle": "2021-11-28T00:30:10.761991Z",
          "shell.execute_reply.started": "2021-11-28T00:30:10.756650Z",
          "shell.execute_reply": "2021-11-28T00:30:10.761246Z"
        },
        "trusted": true,
        "colab": {
          "base_uri": "https://localhost:8080/"
        },
        "id": "2vljfDuGLmdC",
        "outputId": "e6d53869-0b0b-4666-f506-f3db3c3f519c"
      },
      "execution_count": 34,
      "outputs": [
        {
          "output_type": "stream",
          "name": "stdout",
          "text": [
            "Neutral\n"
          ]
        }
      ]
    },
    {
      "cell_type": "code",
      "source": [
        "model.save_weights('model_weights.h5')"
      ],
      "metadata": {
        "papermill": {
          "duration": 12.512905,
          "end_time": "2021-08-24T15:15:16.266146",
          "exception": false,
          "start_time": "2021-08-24T15:15:03.753241",
          "status": "completed"
        },
        "tags": [],
        "execution": {
          "iopub.status.busy": "2021-11-28T00:30:10.762958Z",
          "iopub.execute_input": "2021-11-28T00:30:10.763762Z",
          "iopub.status.idle": "2021-11-28T00:30:10.832504Z",
          "shell.execute_reply.started": "2021-11-28T00:30:10.763679Z",
          "shell.execute_reply": "2021-11-28T00:30:10.831581Z"
        },
        "trusted": true,
        "id": "odYuNV0DLmdC"
      },
      "execution_count": 35,
      "outputs": []
    }
  ]
}