{
  "nbformat": 4,
  "nbformat_minor": 0,
  "metadata": {
    "colab": {
      "name": "Stock Market Prediction and Forecasting.ipynb",
      "provenance": []
    },
    "kernelspec": {
      "name": "python3",
      "display_name": "Python 3"
    },
    "language_info": {
      "name": "python"
    }
  },
  "cells": [
    {
      "cell_type": "markdown",
      "source": [
        "# **LGM - VIP Data Science Internship Programme**"
      ],
      "metadata": {
        "id": "XNmKhXJGpPc5"
      }
    },
    {
      "cell_type": "markdown",
      "source": [
        "## **Beginner Level -> Task #2**\n",
        "### **Stock Market Prediction and Forecasting using stacked LSTM**"
      ],
      "metadata": {
        "id": "mrMYzIX6paDW"
      }
    },
    {
      "cell_type": "code",
      "execution_count": null,
      "metadata": {
        "id": "7koP-lFKpISC"
      },
      "outputs": [],
      "source": [
        "# Importing necessary libraries for our task.\n",
        "\n",
        "import numpy as np# For Array Operations\n",
        "import pandas as pd # For Statistical Calculations\n",
        "import tensorflow as tf # For numerical computations \n",
        "from sklearn.preprocessing import MinMaxScaler # For scaling values in the range of (0, 1)\n",
        "from keras.models import Sequential # For creating stacked LSTM\n",
        "from keras.layers import Dense, LSTM # For creating stacked LSTM\n",
        "import math # used for denoting special mathametical functions\n",
        "import seaborn as sb # For interpreting data in graphs\n",
        "import matplotlib.pyplot as plt # For interpreting data in graphs\n",
        "from sklearn.metrics import mean_squared_error # For calculating performance of our model"
      ]
    },
    {
      "cell_type": "markdown",
      "source": [
        "To begin with, we need to save the CSV file in our local session."
      ],
      "metadata": {
        "id": "oVl5QnRfqhiX"
      }
    },
    {
      "cell_type": "code",
      "source": [
        "data = pd.read_csv('https://raw.githubusercontent.com/mwitiderrick/stockprice/master/NSE-TATAGLOBAL.csv')\n",
        "data.head()"
      ],
      "metadata": {
        "colab": {
          "base_uri": "https://localhost:8080/",
          "height": 206
        },
        "id": "u4DkHzYBqZfA",
        "outputId": "fced3960-2d87-4dd5-8b27-2d76d5f7d19e"
      },
      "execution_count": null,
      "outputs": [
        {
          "output_type": "execute_result",
          "data": {
            "text/html": [
              "\n",
              "  <div id=\"df-bdfedc17-8f03-4024-af92-8d84eee04b82\">\n",
              "    <div class=\"colab-df-container\">\n",
              "      <div>\n",
              "<style scoped>\n",
              "    .dataframe tbody tr th:only-of-type {\n",
              "        vertical-align: middle;\n",
              "    }\n",
              "\n",
              "    .dataframe tbody tr th {\n",
              "        vertical-align: top;\n",
              "    }\n",
              "\n",
              "    .dataframe thead th {\n",
              "        text-align: right;\n",
              "    }\n",
              "</style>\n",
              "<table border=\"1\" class=\"dataframe\">\n",
              "  <thead>\n",
              "    <tr style=\"text-align: right;\">\n",
              "      <th></th>\n",
              "      <th>Date</th>\n",
              "      <th>Open</th>\n",
              "      <th>High</th>\n",
              "      <th>Low</th>\n",
              "      <th>Last</th>\n",
              "      <th>Close</th>\n",
              "      <th>Total Trade Quantity</th>\n",
              "      <th>Turnover (Lacs)</th>\n",
              "    </tr>\n",
              "  </thead>\n",
              "  <tbody>\n",
              "    <tr>\n",
              "      <th>0</th>\n",
              "      <td>2018-09-28</td>\n",
              "      <td>234.05</td>\n",
              "      <td>235.95</td>\n",
              "      <td>230.20</td>\n",
              "      <td>233.50</td>\n",
              "      <td>233.75</td>\n",
              "      <td>3069914</td>\n",
              "      <td>7162.35</td>\n",
              "    </tr>\n",
              "    <tr>\n",
              "      <th>1</th>\n",
              "      <td>2018-09-27</td>\n",
              "      <td>234.55</td>\n",
              "      <td>236.80</td>\n",
              "      <td>231.10</td>\n",
              "      <td>233.80</td>\n",
              "      <td>233.25</td>\n",
              "      <td>5082859</td>\n",
              "      <td>11859.95</td>\n",
              "    </tr>\n",
              "    <tr>\n",
              "      <th>2</th>\n",
              "      <td>2018-09-26</td>\n",
              "      <td>240.00</td>\n",
              "      <td>240.00</td>\n",
              "      <td>232.50</td>\n",
              "      <td>235.00</td>\n",
              "      <td>234.25</td>\n",
              "      <td>2240909</td>\n",
              "      <td>5248.60</td>\n",
              "    </tr>\n",
              "    <tr>\n",
              "      <th>3</th>\n",
              "      <td>2018-09-25</td>\n",
              "      <td>233.30</td>\n",
              "      <td>236.75</td>\n",
              "      <td>232.00</td>\n",
              "      <td>236.25</td>\n",
              "      <td>236.10</td>\n",
              "      <td>2349368</td>\n",
              "      <td>5503.90</td>\n",
              "    </tr>\n",
              "    <tr>\n",
              "      <th>4</th>\n",
              "      <td>2018-09-24</td>\n",
              "      <td>233.55</td>\n",
              "      <td>239.20</td>\n",
              "      <td>230.75</td>\n",
              "      <td>234.00</td>\n",
              "      <td>233.30</td>\n",
              "      <td>3423509</td>\n",
              "      <td>7999.55</td>\n",
              "    </tr>\n",
              "  </tbody>\n",
              "</table>\n",
              "</div>\n",
              "      <button class=\"colab-df-convert\" onclick=\"convertToInteractive('df-bdfedc17-8f03-4024-af92-8d84eee04b82')\"\n",
              "              title=\"Convert this dataframe to an interactive table.\"\n",
              "              style=\"display:none;\">\n",
              "        \n",
              "  <svg xmlns=\"http://www.w3.org/2000/svg\" height=\"24px\"viewBox=\"0 0 24 24\"\n",
              "       width=\"24px\">\n",
              "    <path d=\"M0 0h24v24H0V0z\" fill=\"none\"/>\n",
              "    <path d=\"M18.56 5.44l.94 2.06.94-2.06 2.06-.94-2.06-.94-.94-2.06-.94 2.06-2.06.94zm-11 1L8.5 8.5l.94-2.06 2.06-.94-2.06-.94L8.5 2.5l-.94 2.06-2.06.94zm10 10l.94 2.06.94-2.06 2.06-.94-2.06-.94-.94-2.06-.94 2.06-2.06.94z\"/><path d=\"M17.41 7.96l-1.37-1.37c-.4-.4-.92-.59-1.43-.59-.52 0-1.04.2-1.43.59L10.3 9.45l-7.72 7.72c-.78.78-.78 2.05 0 2.83L4 21.41c.39.39.9.59 1.41.59.51 0 1.02-.2 1.41-.59l7.78-7.78 2.81-2.81c.8-.78.8-2.07 0-2.86zM5.41 20L4 18.59l7.72-7.72 1.47 1.35L5.41 20z\"/>\n",
              "  </svg>\n",
              "      </button>\n",
              "      \n",
              "  <style>\n",
              "    .colab-df-container {\n",
              "      display:flex;\n",
              "      flex-wrap:wrap;\n",
              "      gap: 12px;\n",
              "    }\n",
              "\n",
              "    .colab-df-convert {\n",
              "      background-color: #E8F0FE;\n",
              "      border: none;\n",
              "      border-radius: 50%;\n",
              "      cursor: pointer;\n",
              "      display: none;\n",
              "      fill: #1967D2;\n",
              "      height: 32px;\n",
              "      padding: 0 0 0 0;\n",
              "      width: 32px;\n",
              "    }\n",
              "\n",
              "    .colab-df-convert:hover {\n",
              "      background-color: #E2EBFA;\n",
              "      box-shadow: 0px 1px 2px rgba(60, 64, 67, 0.3), 0px 1px 3px 1px rgba(60, 64, 67, 0.15);\n",
              "      fill: #174EA6;\n",
              "    }\n",
              "\n",
              "    [theme=dark] .colab-df-convert {\n",
              "      background-color: #3B4455;\n",
              "      fill: #D2E3FC;\n",
              "    }\n",
              "\n",
              "    [theme=dark] .colab-df-convert:hover {\n",
              "      background-color: #434B5C;\n",
              "      box-shadow: 0px 1px 3px 1px rgba(0, 0, 0, 0.15);\n",
              "      filter: drop-shadow(0px 1px 2px rgba(0, 0, 0, 0.3));\n",
              "      fill: #FFFFFF;\n",
              "    }\n",
              "  </style>\n",
              "\n",
              "      <script>\n",
              "        const buttonEl =\n",
              "          document.querySelector('#df-bdfedc17-8f03-4024-af92-8d84eee04b82 button.colab-df-convert');\n",
              "        buttonEl.style.display =\n",
              "          google.colab.kernel.accessAllowed ? 'block' : 'none';\n",
              "\n",
              "        async function convertToInteractive(key) {\n",
              "          const element = document.querySelector('#df-bdfedc17-8f03-4024-af92-8d84eee04b82');\n",
              "          const dataTable =\n",
              "            await google.colab.kernel.invokeFunction('convertToInteractive',\n",
              "                                                     [key], {});\n",
              "          if (!dataTable) return;\n",
              "\n",
              "          const docLinkHtml = 'Like what you see? Visit the ' +\n",
              "            '<a target=\"_blank\" href=https://colab.research.google.com/notebooks/data_table.ipynb>data table notebook</a>'\n",
              "            + ' to learn more about interactive tables.';\n",
              "          element.innerHTML = '';\n",
              "          dataTable['output_type'] = 'display_data';\n",
              "          await google.colab.output.renderOutput(dataTable, element);\n",
              "          const docLink = document.createElement('div');\n",
              "          docLink.innerHTML = docLinkHtml;\n",
              "          element.appendChild(docLink);\n",
              "        }\n",
              "      </script>\n",
              "    </div>\n",
              "  </div>\n",
              "  "
            ],
            "text/plain": [
              "         Date    Open    High  ...   Close  Total Trade Quantity  Turnover (Lacs)\n",
              "0  2018-09-28  234.05  235.95  ...  233.75               3069914          7162.35\n",
              "1  2018-09-27  234.55  236.80  ...  233.25               5082859         11859.95\n",
              "2  2018-09-26  240.00  240.00  ...  234.25               2240909          5248.60\n",
              "3  2018-09-25  233.30  236.75  ...  236.10               2349368          5503.90\n",
              "4  2018-09-24  233.55  239.20  ...  233.30               3423509          7999.55\n",
              "\n",
              "[5 rows x 8 columns]"
            ]
          },
          "metadata": {},
          "execution_count": 5
        }
      ]
    },
    {
      "cell_type": "code",
      "source": [
        "data.shape"
      ],
      "metadata": {
        "colab": {
          "base_uri": "https://localhost:8080/"
        },
        "id": "-mdUJonRqwet",
        "outputId": "e2e1eb81-5ae6-4f41-adb6-822d6d645025"
      },
      "execution_count": null,
      "outputs": [
        {
          "output_type": "execute_result",
          "data": {
            "text/plain": [
              "(2035, 8)"
            ]
          },
          "metadata": {},
          "execution_count": 6
        }
      ]
    },
    {
      "cell_type": "code",
      "source": [
        "plt.figure(figsize = (9,3))\n",
        "plt.title('Tata Stocks Closing Price')\n",
        "plt.plot(data['Close'])\n",
        "plt.xlabel('Date',fontsize=15)\n",
        "plt.ylabel('Close',fontsize=15)"
      ],
      "metadata": {
        "colab": {
          "base_uri": "https://localhost:8080/",
          "height": 263
        },
        "id": "Xw5kQ-xgq-xL",
        "outputId": "36c93a11-1800-47b7-e0bd-54111a2052c0"
      },
      "execution_count": null,
      "outputs": [
        {
          "output_type": "execute_result",
          "data": {
            "text/plain": [
              "Text(0, 0.5, 'Close')"
            ]
          },
          "metadata": {},
          "execution_count": 8
        },
        {
          "output_type": "display_data",
          "data": {
            "image/png": "[encoded data removed]",
            "text/plain": [
              "<Figure size 648x216 with 1 Axes>"
            ]
          },
          "metadata": {
            "needs_background": "light"
          }
        }
      ]
    },
    {
      "cell_type": "markdown",
      "source": [
        "Now, we store the target attribute in the 'Close' Column."
      ],
      "metadata": {
        "id": "GpANG2BArhgz"
      }
    },
    {
      "cell_type": "code",
      "source": [
        "data_close = data.reset_index()['Close']\n",
        "data_close.head()"
      ],
      "metadata": {
        "colab": {
          "base_uri": "https://localhost:8080/"
        },
        "id": "GMHRe18ZrKm6",
        "outputId": "3c40b488-31ea-43a4-b909-d64a0ddd9d18"
      },
      "execution_count": null,
      "outputs": [
        {
          "output_type": "execute_result",
          "data": {
            "text/plain": [
              "0    233.75\n",
              "1    233.25\n",
              "2    234.25\n",
              "3    236.10\n",
              "4    233.30\n",
              "Name: Close, dtype: float64"
            ]
          },
          "metadata": {},
          "execution_count": 9
        }
      ]
    },
    {
      "cell_type": "markdown",
      "source": [
        "From the original dataset, we can tell that each of our target value are in close proximity to one another. So, we will use **MinMaxScaler** to scale down all the target variables in the range of (0, 1) for the ease of computation."
      ],
      "metadata": {
        "id": "ffiH5Z1br8jz"
      }
    },
    {
      "cell_type": "code",
      "source": [
        "scaler = MinMaxScaler(feature_range = (0, 1))\n",
        "data_close = scaler.fit_transform(np.array(data_close).reshape(-1, 1))\n",
        "data_close"
      ],
      "metadata": {
        "colab": {
          "base_uri": "https://localhost:8080/"
        },
        "id": "joeUh1KXr2tB",
        "outputId": "55b37970-796e-4df5-998c-a140295962af"
      },
      "execution_count": null,
      "outputs": [
        {
          "output_type": "execute_result",
          "data": {
            "text/plain": [
              "array([[0.62418301],\n",
              "       [0.62214052],\n",
              "       [0.62622549],\n",
              "       ...,\n",
              "       [0.1621732 ],\n",
              "       [0.16319444],\n",
              "       [0.16584967]])"
            ]
          },
          "metadata": {},
          "execution_count": 10
        }
      ]
    },
    {
      "cell_type": "markdown",
      "source": [
        "**Now, we split our data into Training data (85%) and Testing data (15%)**"
      ],
      "metadata": {
        "id": "YoUkSP9Rsfx7"
      }
    },
    {
      "cell_type": "code",
      "source": [
        "train_size = int(len(data_close) * 0.85)\n",
        "test_size = len(data_close) - train_size\n",
        "train_data, test_data = data_close[0 : train_size, :], data_close[train_size : len(data_close), : 1]"
      ],
      "metadata": {
        "id": "YGeo1n8EsWEn"
      },
      "execution_count": null,
      "outputs": []
    },
    {
      "cell_type": "code",
      "source": [
        "train_size, test_size"
      ],
      "metadata": {
        "colab": {
          "base_uri": "https://localhost:8080/"
        },
        "id": "KDb_srsVs0Pj",
        "outputId": "20d99990-4c7f-4b6a-b162-a7dfa0bf219b"
      },
      "execution_count": null,
      "outputs": [
        {
          "output_type": "execute_result",
          "data": {
            "text/plain": [
              "(1729, 306)"
            ]
          },
          "metadata": {},
          "execution_count": 14
        }
      ]
    },
    {
      "cell_type": "code",
      "source": [
        "train_data"
      ],
      "metadata": {
        "colab": {
          "base_uri": "https://localhost:8080/"
        },
        "id": "QGiq9R3ntCvN",
        "outputId": "7761bc3c-d6f4-4f1d-9be4-dcc6d032abb3"
      },
      "execution_count": null,
      "outputs": [
        {
          "output_type": "execute_result",
          "data": {
            "text/plain": [
              "array([[0.62418301],\n",
              "       [0.62214052],\n",
              "       [0.62622549],\n",
              "       ...,\n",
              "       [0.02920752],\n",
              "       [0.02328431],\n",
              "       [0.01919935]])"
            ]
          },
          "metadata": {},
          "execution_count": 15
        }
      ]
    },
    {
      "cell_type": "markdown",
      "source": [
        "Looking at our dataset, we realise that it's a Time Series Dataset."
      ],
      "metadata": {
        "id": "85HenWdIteRv"
      }
    },
    {
      "cell_type": "code",
      "source": [
        "def create_dataset(dataset, time_step = 1):\n",
        "  X_data, Y_data = [], []\n",
        "  for i in range(len(dataset) - time_step - 1):\n",
        "\t  a = dataset[i : (i + time_step), 0] \n",
        "\t  X_data.append(a)\n",
        "\t  Y_data.append(dataset[i + time_step, 0])\n",
        "  return np.array(X_data), np.array(Y_data)"
      ],
      "metadata": {
        "id": "15yjbpiUtGMQ"
      },
      "execution_count": null,
      "outputs": []
    },
    {
      "cell_type": "markdown",
      "source": [
        "Now, we fix the step size to, say, 100."
      ],
      "metadata": {
        "id": "MjByQraouBp2"
      }
    },
    {
      "cell_type": "code",
      "source": [
        "time_step = 100\n",
        "X_train, Y_train = create_dataset(train_data, time_step)\n",
        "X_test, Y_test = create_dataset(test_data, time_step)"
      ],
      "metadata": {
        "id": "KffOGGNit2Mm"
      },
      "execution_count": null,
      "outputs": []
    },
    {
      "cell_type": "code",
      "source": [
        "print(X_train.shape, Y_train.shape)\n",
        "print(X_test.shape, Y_test.shape)"
      ],
      "metadata": {
        "colab": {
          "base_uri": "https://localhost:8080/"
        },
        "id": "kZJ3igntuIrl",
        "outputId": "a3dcbcf6-c80b-4bb1-8e7c-25f05198cbf9"
      },
      "execution_count": null,
      "outputs": [
        {
          "output_type": "stream",
          "name": "stdout",
          "text": [
            "(1628, 100) (1628,)\n",
            "(205, 100) (205,)\n"
          ]
        }
      ]
    },
    {
      "cell_type": "code",
      "source": [
        "X_train = X_train.reshape(X_train.shape[0], X_train.shape[1] , 1)\n",
        "X_test = X_test.reshape(X_test.shape[0], X_test.shape[1] , 1)"
      ],
      "metadata": {
        "id": "5dYOLvUXuJyZ"
      },
      "execution_count": null,
      "outputs": []
    },
    {
      "cell_type": "markdown",
      "source": [
        "# **It's now time to create the Stacked LSTM Model**"
      ],
      "metadata": {
        "id": "K7vscXdUuZsr"
      }
    },
    {
      "cell_type": "code",
      "source": [
        "lst = Sequential()\n",
        "lst.add(LSTM(50,return_sequences = True, input_shape = (100, 1)))\n",
        "lst.add(LSTM(50, return_sequences = True))\n",
        "lst.add(LSTM(50))\n",
        "lst.add(Dense(1))\n",
        "lst.compile(loss = 'mean_squared_error', optimizer='adam')"
      ],
      "metadata": {
        "id": "o_1YD4GKuYOM"
      },
      "execution_count": null,
      "outputs": []
    },
    {
      "cell_type": "code",
      "source": [
        "lst.summary()"
      ],
      "metadata": {
        "colab": {
          "base_uri": "https://localhost:8080/"
        },
        "id": "Ps8kWf4xun6D",
        "outputId": "14388067-a0e9-4a4b-8c9e-84f24d8666ad"
      },
      "execution_count": null,
      "outputs": [
        {
          "output_type": "stream",
          "name": "stdout",
          "text": [
            "Model: \"sequential\"\n",
            "_________________________________________________________________\n",
            " Layer (type)                Output Shape              Param #   \n",
            "=================================================================\n",
            " lstm (LSTM)                 (None, 100, 50)           10400     \n",
            "                                                                 \n",
            " lstm_1 (LSTM)               (None, 100, 50)           20200     \n",
            "                                                                 \n",
            " lstm_2 (LSTM)               (None, 50)                20200     \n",
            "                                                                 \n",
            " dense (Dense)               (None, 1)                 51        \n",
            "                                                                 \n",
            "=================================================================\n",
            "Total params: 50,851\n",
            "Trainable params: 50,851\n",
            "Non-trainable params: 0\n",
            "_________________________________________________________________\n"
          ]
        }
      ]
    },
    {
      "cell_type": "code",
      "source": [
        "lst.fit(X_train, y_train, validation_data = (X_test, ytest), epochs = 100, batch_size = 64, verbose = 1)"
      ],
      "metadata": {
        "colab": {
          "base_uri": "https://localhost:8080/"
        },
        "id": "NSBdTuXUuo1i",
        "outputId": "9d8b534b-688c-4bba-c697-67d6e006158b"
      },
      "execution_count": null,
      "outputs": [
        {
          "output_type": "stream",
          "name": "stdout",
          "text": [
            "Epoch 1/100\n",
            "26/26 [==============================] - 11s 212ms/step - loss: 0.0157 - val_loss: 0.0022\n",
            "Epoch 2/100\n",
            "26/26 [==============================] - 4s 166ms/step - loss: 0.0019 - val_loss: 5.1175e-04\n",
            "Epoch 3/100\n",
            "26/26 [==============================] - 4s 169ms/step - loss: 0.0014 - val_loss: 4.5362e-04\n",
            "Epoch 4/100\n",
            "26/26 [==============================] - 4s 166ms/step - loss: 0.0013 - val_loss: 4.9668e-04\n",
            "Epoch 5/100\n",
            "26/26 [==============================] - 4s 163ms/step - loss: 0.0012 - val_loss: 4.7551e-04\n",
            "Epoch 6/100\n",
            "26/26 [==============================] - 4s 167ms/step - loss: 0.0013 - val_loss: 4.1636e-04\n",
            "Epoch 7/100\n",
            "26/26 [==============================] - 4s 167ms/step - loss: 0.0013 - val_loss: 4.3589e-04\n",
            "Epoch 8/100\n",
            "26/26 [==============================] - 4s 166ms/step - loss: 0.0011 - val_loss: 4.0532e-04\n",
            "Epoch 9/100\n",
            "26/26 [==============================] - 4s 167ms/step - loss: 9.6290e-04 - val_loss: 3.8333e-04\n",
            "Epoch 10/100\n",
            "26/26 [==============================] - 4s 169ms/step - loss: 9.1997e-04 - val_loss: 3.7391e-04\n",
            "Epoch 11/100\n",
            "26/26 [==============================] - 4s 172ms/step - loss: 8.8754e-04 - val_loss: 3.7312e-04\n",
            "Epoch 12/100\n",
            "26/26 [==============================] - 4s 170ms/step - loss: 8.4529e-04 - val_loss: 3.4964e-04\n",
            "Epoch 13/100\n",
            "26/26 [==============================] - 4s 163ms/step - loss: 8.1688e-04 - val_loss: 3.6053e-04\n",
            "Epoch 14/100\n",
            "26/26 [==============================] - 4s 165ms/step - loss: 7.8166e-04 - val_loss: 3.2666e-04\n",
            "Epoch 15/100\n",
            "26/26 [==============================] - 4s 170ms/step - loss: 8.1250e-04 - val_loss: 3.5308e-04\n",
            "Epoch 16/100\n",
            "26/26 [==============================] - 4s 167ms/step - loss: 7.3340e-04 - val_loss: 3.1417e-04\n",
            "Epoch 17/100\n",
            "26/26 [==============================] - 4s 163ms/step - loss: 6.7880e-04 - val_loss: 3.1527e-04\n",
            "Epoch 18/100\n",
            "26/26 [==============================] - 4s 167ms/step - loss: 6.5765e-04 - val_loss: 3.0635e-04\n",
            "Epoch 19/100\n",
            "26/26 [==============================] - 4s 164ms/step - loss: 6.3625e-04 - val_loss: 3.0507e-04\n",
            "Epoch 20/100\n",
            "26/26 [==============================] - 4s 161ms/step - loss: 6.1943e-04 - val_loss: 2.9348e-04\n",
            "Epoch 21/100\n",
            "26/26 [==============================] - 4s 162ms/step - loss: 5.9211e-04 - val_loss: 2.8946e-04\n",
            "Epoch 22/100\n",
            "26/26 [==============================] - 4s 165ms/step - loss: 5.8060e-04 - val_loss: 2.7803e-04\n",
            "Epoch 23/100\n",
            "26/26 [==============================] - 4s 163ms/step - loss: 5.7217e-04 - val_loss: 2.7939e-04\n",
            "Epoch 24/100\n",
            "26/26 [==============================] - 4s 164ms/step - loss: 5.6053e-04 - val_loss: 3.0440e-04\n",
            "Epoch 25/100\n",
            "26/26 [==============================] - 4s 162ms/step - loss: 6.3305e-04 - val_loss: 2.6776e-04\n",
            "Epoch 26/100\n",
            "26/26 [==============================] - 4s 166ms/step - loss: 5.2977e-04 - val_loss: 2.8174e-04\n",
            "Epoch 27/100\n",
            "26/26 [==============================] - 4s 170ms/step - loss: 5.4281e-04 - val_loss: 2.5345e-04\n",
            "Epoch 28/100\n",
            "26/26 [==============================] - 4s 166ms/step - loss: 4.8422e-04 - val_loss: 2.4603e-04\n",
            "Epoch 29/100\n",
            "26/26 [==============================] - 4s 162ms/step - loss: 5.0011e-04 - val_loss: 2.4219e-04\n",
            "Epoch 30/100\n",
            "26/26 [==============================] - 4s 171ms/step - loss: 4.5500e-04 - val_loss: 2.3757e-04\n",
            "Epoch 31/100\n",
            "26/26 [==============================] - 4s 169ms/step - loss: 4.4428e-04 - val_loss: 2.4085e-04\n",
            "Epoch 32/100\n",
            "26/26 [==============================] - 4s 164ms/step - loss: 4.3357e-04 - val_loss: 2.3008e-04\n",
            "Epoch 33/100\n",
            "26/26 [==============================] - 4s 163ms/step - loss: 4.2350e-04 - val_loss: 2.2005e-04\n",
            "Epoch 34/100\n",
            "26/26 [==============================] - 4s 170ms/step - loss: 4.4399e-04 - val_loss: 2.1525e-04\n",
            "Epoch 35/100\n",
            "26/26 [==============================] - 4s 165ms/step - loss: 4.1299e-04 - val_loss: 2.1641e-04\n",
            "Epoch 36/100\n",
            "26/26 [==============================] - 4s 164ms/step - loss: 3.9166e-04 - val_loss: 2.0981e-04\n",
            "Epoch 37/100\n",
            "26/26 [==============================] - 4s 168ms/step - loss: 4.6850e-04 - val_loss: 2.1256e-04\n",
            "Epoch 38/100\n",
            "26/26 [==============================] - 4s 163ms/step - loss: 4.1063e-04 - val_loss: 2.5322e-04\n",
            "Epoch 39/100\n",
            "26/26 [==============================] - 4s 161ms/step - loss: 5.1335e-04 - val_loss: 2.6485e-04\n",
            "Epoch 40/100\n",
            "26/26 [==============================] - 4s 164ms/step - loss: 3.7573e-04 - val_loss: 1.9869e-04\n",
            "Epoch 41/100\n",
            "26/26 [==============================] - 4s 166ms/step - loss: 3.6817e-04 - val_loss: 1.9847e-04\n",
            "Epoch 42/100\n",
            "26/26 [==============================] - 4s 162ms/step - loss: 3.3701e-04 - val_loss: 1.9591e-04\n",
            "Epoch 43/100\n",
            "26/26 [==============================] - 4s 165ms/step - loss: 3.2982e-04 - val_loss: 2.1946e-04\n",
            "Epoch 44/100\n",
            "26/26 [==============================] - 4s 162ms/step - loss: 3.9364e-04 - val_loss: 1.7977e-04\n",
            "Epoch 45/100\n",
            "26/26 [==============================] - 4s 168ms/step - loss: 3.1435e-04 - val_loss: 1.7989e-04\n",
            "Epoch 46/100\n",
            "26/26 [==============================] - 4s 169ms/step - loss: 2.9996e-04 - val_loss: 1.7850e-04\n",
            "Epoch 47/100\n",
            "26/26 [==============================] - 4s 163ms/step - loss: 2.8267e-04 - val_loss: 1.7276e-04\n",
            "Epoch 48/100\n",
            "26/26 [==============================] - 4s 164ms/step - loss: 3.2180e-04 - val_loss: 1.7099e-04\n",
            "Epoch 49/100\n",
            "26/26 [==============================] - 4s 166ms/step - loss: 3.1240e-04 - val_loss: 1.7282e-04\n",
            "Epoch 50/100\n",
            "26/26 [==============================] - 4s 166ms/step - loss: 3.0320e-04 - val_loss: 1.6497e-04\n",
            "Epoch 51/100\n",
            "26/26 [==============================] - 4s 165ms/step - loss: 2.8363e-04 - val_loss: 1.5937e-04\n",
            "Epoch 52/100\n",
            "26/26 [==============================] - 4s 165ms/step - loss: 2.7124e-04 - val_loss: 1.6418e-04\n",
            "Epoch 53/100\n",
            "26/26 [==============================] - 4s 161ms/step - loss: 2.7620e-04 - val_loss: 1.5260e-04\n",
            "Epoch 54/100\n",
            "26/26 [==============================] - 4s 162ms/step - loss: 2.8460e-04 - val_loss: 1.4987e-04\n",
            "Epoch 55/100\n",
            "26/26 [==============================] - 4s 164ms/step - loss: 2.8623e-04 - val_loss: 1.5141e-04\n",
            "Epoch 56/100\n",
            "26/26 [==============================] - 4s 167ms/step - loss: 2.6767e-04 - val_loss: 1.4648e-04\n",
            "Epoch 57/100\n",
            "26/26 [==============================] - 4s 165ms/step - loss: 2.5883e-04 - val_loss: 1.5821e-04\n",
            "Epoch 58/100\n",
            "26/26 [==============================] - 4s 170ms/step - loss: 2.7046e-04 - val_loss: 1.4747e-04\n",
            "Epoch 59/100\n",
            "26/26 [==============================] - 4s 165ms/step - loss: 2.2936e-04 - val_loss: 1.3853e-04\n",
            "Epoch 60/100\n",
            "26/26 [==============================] - 4s 165ms/step - loss: 2.6305e-04 - val_loss: 1.3938e-04\n",
            "Epoch 61/100\n",
            "26/26 [==============================] - 4s 164ms/step - loss: 2.7798e-04 - val_loss: 1.3499e-04\n",
            "Epoch 62/100\n",
            "26/26 [==============================] - 4s 160ms/step - loss: 2.4034e-04 - val_loss: 1.4943e-04\n",
            "Epoch 63/100\n",
            "26/26 [==============================] - 4s 171ms/step - loss: 2.6450e-04 - val_loss: 1.3965e-04\n",
            "Epoch 64/100\n",
            "26/26 [==============================] - 5s 173ms/step - loss: 2.7590e-04 - val_loss: 1.4002e-04\n",
            "Epoch 65/100\n",
            "26/26 [==============================] - 4s 164ms/step - loss: 2.1875e-04 - val_loss: 1.3806e-04\n",
            "Epoch 66/100\n",
            "26/26 [==============================] - 4s 167ms/step - loss: 2.3753e-04 - val_loss: 1.2816e-04\n",
            "Epoch 67/100\n",
            "26/26 [==============================] - 5s 175ms/step - loss: 2.1078e-04 - val_loss: 1.3772e-04\n",
            "Epoch 68/100\n",
            "26/26 [==============================] - 4s 172ms/step - loss: 2.5365e-04 - val_loss: 1.2573e-04\n",
            "Epoch 69/100\n",
            "26/26 [==============================] - 4s 162ms/step - loss: 2.2541e-04 - val_loss: 1.3333e-04\n",
            "Epoch 70/100\n",
            "26/26 [==============================] - 4s 170ms/step - loss: 2.2071e-04 - val_loss: 1.9918e-04\n",
            "Epoch 71/100\n",
            "26/26 [==============================] - 4s 170ms/step - loss: 2.6228e-04 - val_loss: 1.3533e-04\n",
            "Epoch 72/100\n",
            "26/26 [==============================] - 4s 163ms/step - loss: 2.7570e-04 - val_loss: 1.2179e-04\n",
            "Epoch 73/100\n",
            "26/26 [==============================] - 4s 166ms/step - loss: 2.3787e-04 - val_loss: 1.4165e-04\n",
            "Epoch 74/100\n",
            "26/26 [==============================] - 4s 164ms/step - loss: 2.5436e-04 - val_loss: 1.9944e-04\n",
            "Epoch 75/100\n",
            "26/26 [==============================] - 4s 169ms/step - loss: 2.5158e-04 - val_loss: 1.2329e-04\n",
            "Epoch 76/100\n",
            "26/26 [==============================] - 4s 166ms/step - loss: 2.1574e-04 - val_loss: 1.2899e-04\n",
            "Epoch 77/100\n",
            "26/26 [==============================] - 4s 164ms/step - loss: 2.0148e-04 - val_loss: 1.2292e-04\n",
            "Epoch 78/100\n",
            "26/26 [==============================] - 4s 162ms/step - loss: 2.0461e-04 - val_loss: 1.1350e-04\n",
            "Epoch 79/100\n",
            "26/26 [==============================] - 4s 163ms/step - loss: 2.1506e-04 - val_loss: 1.2701e-04\n",
            "Epoch 80/100\n",
            "26/26 [==============================] - 4s 170ms/step - loss: 2.2390e-04 - val_loss: 1.3385e-04\n",
            "Epoch 81/100\n",
            "26/26 [==============================] - 4s 171ms/step - loss: 2.2640e-04 - val_loss: 1.1240e-04\n",
            "Epoch 82/100\n",
            "26/26 [==============================] - 4s 166ms/step - loss: 2.0322e-04 - val_loss: 1.1237e-04\n",
            "Epoch 83/100\n",
            "26/26 [==============================] - 4s 169ms/step - loss: 2.1829e-04 - val_loss: 1.1416e-04\n",
            "Epoch 84/100\n",
            "26/26 [==============================] - 4s 164ms/step - loss: 2.0731e-04 - val_loss: 1.6056e-04\n",
            "Epoch 85/100\n",
            "26/26 [==============================] - 4s 163ms/step - loss: 2.3180e-04 - val_loss: 1.2434e-04\n",
            "Epoch 86/100\n",
            "26/26 [==============================] - 4s 163ms/step - loss: 2.0750e-04 - val_loss: 1.0863e-04\n",
            "Epoch 87/100\n",
            "26/26 [==============================] - 4s 171ms/step - loss: 1.8900e-04 - val_loss: 1.1088e-04\n",
            "Epoch 88/100\n",
            "26/26 [==============================] - 4s 166ms/step - loss: 2.1041e-04 - val_loss: 1.1623e-04\n",
            "Epoch 89/100\n",
            "26/26 [==============================] - 4s 167ms/step - loss: 2.0231e-04 - val_loss: 1.1198e-04\n",
            "Epoch 90/100\n",
            "26/26 [==============================] - 4s 165ms/step - loss: 2.0145e-04 - val_loss: 1.0505e-04\n",
            "Epoch 91/100\n",
            "26/26 [==============================] - 4s 163ms/step - loss: 1.9608e-04 - val_loss: 1.1607e-04\n",
            "Epoch 92/100\n",
            "26/26 [==============================] - 4s 163ms/step - loss: 1.9093e-04 - val_loss: 1.0833e-04\n",
            "Epoch 93/100\n",
            "26/26 [==============================] - 4s 162ms/step - loss: 2.1762e-04 - val_loss: 1.0366e-04\n",
            "Epoch 94/100\n",
            "26/26 [==============================] - 4s 165ms/step - loss: 1.9842e-04 - val_loss: 1.0519e-04\n",
            "Epoch 95/100\n",
            "26/26 [==============================] - 4s 169ms/step - loss: 1.9052e-04 - val_loss: 1.0429e-04\n",
            "Epoch 96/100\n",
            "26/26 [==============================] - 4s 165ms/step - loss: 1.8585e-04 - val_loss: 1.1864e-04\n",
            "Epoch 97/100\n",
            "26/26 [==============================] - 4s 166ms/step - loss: 1.8768e-04 - val_loss: 9.9476e-05\n",
            "Epoch 98/100\n",
            "26/26 [==============================] - 4s 166ms/step - loss: 2.0640e-04 - val_loss: 9.8085e-05\n",
            "Epoch 99/100\n",
            "26/26 [==============================] - 4s 165ms/step - loss: 2.0913e-04 - val_loss: 1.0485e-04\n",
            "Epoch 100/100\n",
            "26/26 [==============================] - 4s 165ms/step - loss: 2.5125e-04 - val_loss: 1.0566e-04\n"
          ]
        },
        {
          "output_type": "execute_result",
          "data": {
            "text/plain": [
              "<keras.callbacks.History at 0x7f5d270dee10>"
            ]
          },
          "metadata": {},
          "execution_count": 27
        }
      ]
    },
    {
      "cell_type": "markdown",
      "source": [
        "**Let's look at the performance of our Model.**"
      ],
      "metadata": {
        "id": "Owogzk9QwSQN"
      }
    },
    {
      "cell_type": "code",
      "source": [
        "train_predict = lst.predict(X_train)\n",
        "test_predict = lst.predict(X_test)"
      ],
      "metadata": {
        "id": "VlTMY8twuww2"
      },
      "execution_count": null,
      "outputs": []
    },
    {
      "cell_type": "markdown",
      "source": [
        "**Reversing the MinMax Scaler**"
      ],
      "metadata": {
        "id": "bEotd3jiwdCM"
      }
    },
    {
      "cell_type": "code",
      "source": [
        "train_predict = scaler.inverse_transform(train_predict)\n",
        "test_predict = scaler.inverse_transform(test_predict)"
      ],
      "metadata": {
        "id": "voGIgaGIwWDR"
      },
      "execution_count": null,
      "outputs": []
    },
    {
      "cell_type": "code",
      "source": [
        "math.sqrt(mean_squared_error(Y_train, train_predict))"
      ],
      "metadata": {
        "colab": {
          "base_uri": "https://localhost:8080/"
        },
        "id": "5D8iHNdewg8l",
        "outputId": "50b5aabf-a6ef-4741-9f0b-7adf7a723db9"
      },
      "execution_count": null,
      "outputs": [
        {
          "output_type": "execute_result",
          "data": {
            "text/plain": [
              "156.20654950981535"
            ]
          },
          "metadata": {},
          "execution_count": 31
        }
      ]
    },
    {
      "cell_type": "code",
      "source": [
        "math.sqrt(mean_squared_error(ytest,test_predict))"
      ],
      "metadata": {
        "colab": {
          "base_uri": "https://localhost:8080/"
        },
        "id": "L5cRQJUgwsjc",
        "outputId": "9c87ee39-a8e4-4cf9-9a63-41ef852108da"
      },
      "execution_count": null,
      "outputs": [
        {
          "output_type": "execute_result",
          "data": {
            "text/plain": [
              "110.85540874025493"
            ]
          },
          "metadata": {},
          "execution_count": 32
        }
      ]
    },
    {
      "cell_type": "markdown",
      "source": [
        "**Let's visualise our Predictions.**"
      ],
      "metadata": {
        "id": "Wk4U2Lykwz_z"
      }
    },
    {
      "cell_type": "code",
      "source": [
        "look_back = 100\n",
        "train_num_pyredict_plot = np.empty_like(data_close)\n",
        "train_num_pyredict_plot[:, :] = np.nan\n",
        "train_num_pyredict_plot[look_back : len(train_predict) + look_back, :] = train_predict\n",
        "test_predict_plot = np.empty_like(data_close)\n",
        "test_predict_plot[:, :] = np.nan\n",
        "test_predict_plot[len(train_predict) + (look_back * 2) + 1 : len(data_close) - 1, :] = test_predict\n",
        "plt.plot(scaler.inverse_transform(data_close))\n",
        "plt.plot(train_num_pyredict_plot)\n",
        "plt.plot(test_predict_plot)\n",
        "plt.show()"
      ],
      "metadata": {
        "colab": {
          "base_uri": "https://localhost:8080/",
          "height": 265
        },
        "id": "vJmfFXaDww9H",
        "outputId": "e76cbe9b-1350-4c6c-abca-c692078e7ee8"
      },
      "execution_count": null,
      "outputs": [
        {
          "output_type": "display_data",
          "data": {
            "image/png": "[encoded data removed]",
            "text/plain": [
              "<Figure size 432x288 with 1 Axes>"
            ]
          },
          "metadata": {
            "needs_background": "light"
          }
        }
      ]
    },
    {
      "cell_type": "markdown",
      "source": [
        "# Future Prediction"
      ],
      "metadata": {
        "id": "KmJhP451xaIf"
      }
    },
    {
      "cell_type": "code",
      "source": [
        "x_inum_pyut=test_data[307:].reshape(1, -1)\n",
        "x_inum_pyut.shape\n",
        "temp_inum_pyut = list(x_inum_pyut)\n",
        "temp_inum_pyut = temp_inum_pyut[0].tolist()\n",
        "temp_inum_pyut = list(x_inum_pyut)\n",
        "temp_inum_pyut = temp_inum_pyut[0].tolist()"
      ],
      "metadata": {
        "id": "ysJt4dG3xRm2"
      },
      "execution_count": null,
      "outputs": []
    },
    {
      "cell_type": "code",
      "source": [
        "day_new = np.arange(1, 101)\n",
        "day_pred = np.arange(101, 131)"
      ],
      "metadata": {
        "id": "EWiuMueUyOeg"
      },
      "execution_count": null,
      "outputs": []
    },
    {
      "cell_type": "code",
      "source": [
        "plt.plot(day_new, scaler.inverse_transform(data_close[1935 : ]))"
      ],
      "metadata": {
        "colab": {
          "base_uri": "https://localhost:8080/",
          "height": 282
        },
        "id": "WAESvgXTymZq",
        "outputId": "f765b75f-50de-4961-84b5-0ab148e1bf7b"
      },
      "execution_count": null,
      "outputs": [
        {
          "output_type": "execute_result",
          "data": {
            "text/plain": [
              "[<matplotlib.lines.Line2D at 0x7f5d23067c50>]"
            ]
          },
          "metadata": {},
          "execution_count": 46
        },
        {
          "output_type": "display_data",
          "data": {
            "image/png": "[encoded data removed]",
            "text/plain": [
              "<Figure size 432x288 with 1 Axes>"
            ]
          },
          "metadata": {
            "needs_background": "light"
          }
        }
      ]
    },
    {
      "cell_type": "code",
      "source": [
        "data_merge = data_close.tolist()\n",
        "data_merge.extend(lst_output)\n",
        "plt.plot(data_merge[1200 : ])"
      ],
      "metadata": {
        "colab": {
          "base_uri": "https://localhost:8080/",
          "height": 282
        },
        "id": "iB5lc9muzGd5",
        "outputId": "501b3c4e-032e-4b0a-946c-7f5327747551"
      },
      "execution_count": null,
      "outputs": [
        {
          "output_type": "execute_result",
          "data": {
            "text/plain": [
              "[<matplotlib.lines.Line2D at 0x7f5d1e87d750>]"
            ]
          },
          "metadata": {},
          "execution_count": 47
        },
        {
          "output_type": "display_data",
          "data": {
            "image/png": "[encoded data removed]",
            "text/plain": [
              "<Figure size 432x288 with 1 Axes>"
            ]
          },
          "metadata": {
            "needs_background": "light"
          }
        }
      ]
    }
  ]
}